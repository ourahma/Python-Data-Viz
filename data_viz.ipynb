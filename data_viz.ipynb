{
 "cells": [
  {
   "cell_type": "markdown",
   "metadata": {},
   "source": [
    "<h1 align=\"center\" style=\"color: red;\">Data Visualization Using Python</h1>"
   ]
  },
  {
   "cell_type": "markdown",
   "metadata": {},
   "source": [
    "<h2 style=\"color:green;\">Importing  Librairies </h2>"
   ]
  },
  {
   "cell_type": "code",
   "execution_count": 66,
   "metadata": {},
   "outputs": [],
   "source": [
    "import pandas as pd  ## Data structures and tools\n",
    "import numpy as np   ## Arrays and matrices\n",
    "import matplotlib.pyplot as plt ## Plots and Graphs\n",
    "from scipy import stats  ## Integrals, solving differential equation and optimization\n",
    "import seaborn as sns  ## Plots : Heatmaps , time series , violin plots \n",
    "from sklearn.linear_model import LinearRegression ## to create simple linear regression models\n",
    "from sklearn.preprocessing import StandardScaler,PolynomialFeatures,OneHotEncoder\n",
    "from sklearn.pipeline import Pipeline\n",
    "from sklearn.metrics import mean_squared_error\n",
    "from sklearn.model_selection import train_test_split ,cross_val_score## to evaluate and split data our model\n",
    "from sklearn.compose import ColumnTransformer\n"
   ]
  },
  {
   "cell_type": "markdown",
   "metadata": {},
   "source": [
    "<h2 style=\"color:green;\">Importing Data </h2>"
   ]
  },
  {
   "cell_type": "code",
   "execution_count": 3,
   "metadata": {},
   "outputs": [],
   "source": [
    "url=\"https://archive.ics.uci.edu/ml/machine-learning-databases/autos/imports-85.data\"\n",
    "headers = [\"symboling\",\"normalized-losses\",\"make\",\"fuel-type\",\"aspiration\", \"num-of-doors\",\"body-style\",\n",
    "\"drive-wheels\",\"engine-location\",\"wheel-base\", \"length\",\"width\",\"height\",\"curb-weight\",\"engine-type\",\n",
    "\"num-of-cylinders\", \"engine-size\",\"fuel-system\",\"bore\",\"stroke\",\"compression-ratio\",\"horsepower\", \"peak-rpm\",\"city-mpg\",\"highway-mpg\",\"price\"]\n",
    "df= pd.read_csv(url,header=None,na_values=\"?\")\n",
    "df.columns=headers"
   ]
  },
  {
   "cell_type": "markdown",
   "metadata": {},
   "source": [
    "<h2 style=\"color:green;\">Exporting Data </h2>"
   ]
  },
  {
   "cell_type": "code",
   "execution_count": 4,
   "metadata": {},
   "outputs": [],
   "source": [
    "path=\"data.csv\"\n",
    "df.to_csv(path)"
   ]
  },
  {
   "cell_type": "markdown",
   "metadata": {},
   "source": [
    "<h5 style=\"color:green;\">Printing a specefic number of line using <code>DataFrame.head(n)</code> method</h5>"
   ]
  },
  {
   "cell_type": "code",
   "execution_count": 5,
   "metadata": {},
   "outputs": [
    {
     "name": "stdout",
     "output_type": "stream",
     "text": [
      "   symboling  normalized-losses         make fuel-type aspiration  \\\n",
      "0          3                NaN  alfa-romero       gas        std   \n",
      "1          3                NaN  alfa-romero       gas        std   \n",
      "\n",
      "  num-of-doors   body-style drive-wheels engine-location  wheel-base  ...  \\\n",
      "0          two  convertible          rwd           front        88.6  ...   \n",
      "1          two  convertible          rwd           front        88.6  ...   \n",
      "\n",
      "   engine-size  fuel-system  bore  stroke compression-ratio horsepower  \\\n",
      "0          130         mpfi  3.47    2.68               9.0      111.0   \n",
      "1          130         mpfi  3.47    2.68               9.0      111.0   \n",
      "\n",
      "   peak-rpm city-mpg  highway-mpg    price  \n",
      "0    5000.0       21           27  13495.0  \n",
      "1    5000.0       21           27  16500.0  \n",
      "\n",
      "[2 rows x 26 columns]\n"
     ]
    }
   ],
   "source": [
    "print(df.head(2))"
   ]
  },
  {
   "cell_type": "markdown",
   "metadata": {},
   "source": [
    "<h5 style=\"color:green;\">DataFrame description using methods like \n",
    "<code>DataFrame.info()</code> \n",
    "<code>DataFrame.dtypes()</code> \n",
    "<code>DataFrame.describe()</code>\n",
    " </h5>"
   ]
  },
  {
   "cell_type": "code",
   "execution_count": 6,
   "metadata": {},
   "outputs": [
    {
     "data": {
      "text/html": [
       "<div>\n",
       "<style scoped>\n",
       "    .dataframe tbody tr th:only-of-type {\n",
       "        vertical-align: middle;\n",
       "    }\n",
       "\n",
       "    .dataframe tbody tr th {\n",
       "        vertical-align: top;\n",
       "    }\n",
       "\n",
       "    .dataframe thead th {\n",
       "        text-align: right;\n",
       "    }\n",
       "</style>\n",
       "<table border=\"1\" class=\"dataframe\">\n",
       "  <thead>\n",
       "    <tr style=\"text-align: right;\">\n",
       "      <th></th>\n",
       "      <th>symboling</th>\n",
       "      <th>normalized-losses</th>\n",
       "      <th>make</th>\n",
       "      <th>fuel-type</th>\n",
       "      <th>aspiration</th>\n",
       "      <th>num-of-doors</th>\n",
       "      <th>body-style</th>\n",
       "      <th>drive-wheels</th>\n",
       "      <th>engine-location</th>\n",
       "      <th>wheel-base</th>\n",
       "      <th>...</th>\n",
       "      <th>engine-size</th>\n",
       "      <th>fuel-system</th>\n",
       "      <th>bore</th>\n",
       "      <th>stroke</th>\n",
       "      <th>compression-ratio</th>\n",
       "      <th>horsepower</th>\n",
       "      <th>peak-rpm</th>\n",
       "      <th>city-mpg</th>\n",
       "      <th>highway-mpg</th>\n",
       "      <th>price</th>\n",
       "    </tr>\n",
       "  </thead>\n",
       "  <tbody>\n",
       "    <tr>\n",
       "      <th>count</th>\n",
       "      <td>205.000000</td>\n",
       "      <td>164.000000</td>\n",
       "      <td>205</td>\n",
       "      <td>205</td>\n",
       "      <td>205</td>\n",
       "      <td>203</td>\n",
       "      <td>205</td>\n",
       "      <td>205</td>\n",
       "      <td>205</td>\n",
       "      <td>205.000000</td>\n",
       "      <td>...</td>\n",
       "      <td>205.000000</td>\n",
       "      <td>205</td>\n",
       "      <td>201.000000</td>\n",
       "      <td>201.000000</td>\n",
       "      <td>205.000000</td>\n",
       "      <td>203.000000</td>\n",
       "      <td>203.000000</td>\n",
       "      <td>205.000000</td>\n",
       "      <td>205.000000</td>\n",
       "      <td>201.000000</td>\n",
       "    </tr>\n",
       "    <tr>\n",
       "      <th>unique</th>\n",
       "      <td>NaN</td>\n",
       "      <td>NaN</td>\n",
       "      <td>22</td>\n",
       "      <td>2</td>\n",
       "      <td>2</td>\n",
       "      <td>2</td>\n",
       "      <td>5</td>\n",
       "      <td>3</td>\n",
       "      <td>2</td>\n",
       "      <td>NaN</td>\n",
       "      <td>...</td>\n",
       "      <td>NaN</td>\n",
       "      <td>8</td>\n",
       "      <td>NaN</td>\n",
       "      <td>NaN</td>\n",
       "      <td>NaN</td>\n",
       "      <td>NaN</td>\n",
       "      <td>NaN</td>\n",
       "      <td>NaN</td>\n",
       "      <td>NaN</td>\n",
       "      <td>NaN</td>\n",
       "    </tr>\n",
       "    <tr>\n",
       "      <th>top</th>\n",
       "      <td>NaN</td>\n",
       "      <td>NaN</td>\n",
       "      <td>toyota</td>\n",
       "      <td>gas</td>\n",
       "      <td>std</td>\n",
       "      <td>four</td>\n",
       "      <td>sedan</td>\n",
       "      <td>fwd</td>\n",
       "      <td>front</td>\n",
       "      <td>NaN</td>\n",
       "      <td>...</td>\n",
       "      <td>NaN</td>\n",
       "      <td>mpfi</td>\n",
       "      <td>NaN</td>\n",
       "      <td>NaN</td>\n",
       "      <td>NaN</td>\n",
       "      <td>NaN</td>\n",
       "      <td>NaN</td>\n",
       "      <td>NaN</td>\n",
       "      <td>NaN</td>\n",
       "      <td>NaN</td>\n",
       "    </tr>\n",
       "    <tr>\n",
       "      <th>freq</th>\n",
       "      <td>NaN</td>\n",
       "      <td>NaN</td>\n",
       "      <td>32</td>\n",
       "      <td>185</td>\n",
       "      <td>168</td>\n",
       "      <td>114</td>\n",
       "      <td>96</td>\n",
       "      <td>120</td>\n",
       "      <td>202</td>\n",
       "      <td>NaN</td>\n",
       "      <td>...</td>\n",
       "      <td>NaN</td>\n",
       "      <td>94</td>\n",
       "      <td>NaN</td>\n",
       "      <td>NaN</td>\n",
       "      <td>NaN</td>\n",
       "      <td>NaN</td>\n",
       "      <td>NaN</td>\n",
       "      <td>NaN</td>\n",
       "      <td>NaN</td>\n",
       "      <td>NaN</td>\n",
       "    </tr>\n",
       "    <tr>\n",
       "      <th>mean</th>\n",
       "      <td>0.834146</td>\n",
       "      <td>122.000000</td>\n",
       "      <td>NaN</td>\n",
       "      <td>NaN</td>\n",
       "      <td>NaN</td>\n",
       "      <td>NaN</td>\n",
       "      <td>NaN</td>\n",
       "      <td>NaN</td>\n",
       "      <td>NaN</td>\n",
       "      <td>98.756585</td>\n",
       "      <td>...</td>\n",
       "      <td>126.907317</td>\n",
       "      <td>NaN</td>\n",
       "      <td>3.329751</td>\n",
       "      <td>3.255423</td>\n",
       "      <td>10.142537</td>\n",
       "      <td>104.256158</td>\n",
       "      <td>5125.369458</td>\n",
       "      <td>25.219512</td>\n",
       "      <td>30.751220</td>\n",
       "      <td>13207.129353</td>\n",
       "    </tr>\n",
       "    <tr>\n",
       "      <th>std</th>\n",
       "      <td>1.245307</td>\n",
       "      <td>35.442168</td>\n",
       "      <td>NaN</td>\n",
       "      <td>NaN</td>\n",
       "      <td>NaN</td>\n",
       "      <td>NaN</td>\n",
       "      <td>NaN</td>\n",
       "      <td>NaN</td>\n",
       "      <td>NaN</td>\n",
       "      <td>6.021776</td>\n",
       "      <td>...</td>\n",
       "      <td>41.642693</td>\n",
       "      <td>NaN</td>\n",
       "      <td>0.273539</td>\n",
       "      <td>0.316717</td>\n",
       "      <td>3.972040</td>\n",
       "      <td>39.714369</td>\n",
       "      <td>479.334560</td>\n",
       "      <td>6.542142</td>\n",
       "      <td>6.886443</td>\n",
       "      <td>7947.066342</td>\n",
       "    </tr>\n",
       "    <tr>\n",
       "      <th>min</th>\n",
       "      <td>-2.000000</td>\n",
       "      <td>65.000000</td>\n",
       "      <td>NaN</td>\n",
       "      <td>NaN</td>\n",
       "      <td>NaN</td>\n",
       "      <td>NaN</td>\n",
       "      <td>NaN</td>\n",
       "      <td>NaN</td>\n",
       "      <td>NaN</td>\n",
       "      <td>86.600000</td>\n",
       "      <td>...</td>\n",
       "      <td>61.000000</td>\n",
       "      <td>NaN</td>\n",
       "      <td>2.540000</td>\n",
       "      <td>2.070000</td>\n",
       "      <td>7.000000</td>\n",
       "      <td>48.000000</td>\n",
       "      <td>4150.000000</td>\n",
       "      <td>13.000000</td>\n",
       "      <td>16.000000</td>\n",
       "      <td>5118.000000</td>\n",
       "    </tr>\n",
       "    <tr>\n",
       "      <th>25%</th>\n",
       "      <td>0.000000</td>\n",
       "      <td>94.000000</td>\n",
       "      <td>NaN</td>\n",
       "      <td>NaN</td>\n",
       "      <td>NaN</td>\n",
       "      <td>NaN</td>\n",
       "      <td>NaN</td>\n",
       "      <td>NaN</td>\n",
       "      <td>NaN</td>\n",
       "      <td>94.500000</td>\n",
       "      <td>...</td>\n",
       "      <td>97.000000</td>\n",
       "      <td>NaN</td>\n",
       "      <td>3.150000</td>\n",
       "      <td>3.110000</td>\n",
       "      <td>8.600000</td>\n",
       "      <td>70.000000</td>\n",
       "      <td>4800.000000</td>\n",
       "      <td>19.000000</td>\n",
       "      <td>25.000000</td>\n",
       "      <td>7775.000000</td>\n",
       "    </tr>\n",
       "    <tr>\n",
       "      <th>50%</th>\n",
       "      <td>1.000000</td>\n",
       "      <td>115.000000</td>\n",
       "      <td>NaN</td>\n",
       "      <td>NaN</td>\n",
       "      <td>NaN</td>\n",
       "      <td>NaN</td>\n",
       "      <td>NaN</td>\n",
       "      <td>NaN</td>\n",
       "      <td>NaN</td>\n",
       "      <td>97.000000</td>\n",
       "      <td>...</td>\n",
       "      <td>120.000000</td>\n",
       "      <td>NaN</td>\n",
       "      <td>3.310000</td>\n",
       "      <td>3.290000</td>\n",
       "      <td>9.000000</td>\n",
       "      <td>95.000000</td>\n",
       "      <td>5200.000000</td>\n",
       "      <td>24.000000</td>\n",
       "      <td>30.000000</td>\n",
       "      <td>10295.000000</td>\n",
       "    </tr>\n",
       "    <tr>\n",
       "      <th>75%</th>\n",
       "      <td>2.000000</td>\n",
       "      <td>150.000000</td>\n",
       "      <td>NaN</td>\n",
       "      <td>NaN</td>\n",
       "      <td>NaN</td>\n",
       "      <td>NaN</td>\n",
       "      <td>NaN</td>\n",
       "      <td>NaN</td>\n",
       "      <td>NaN</td>\n",
       "      <td>102.400000</td>\n",
       "      <td>...</td>\n",
       "      <td>141.000000</td>\n",
       "      <td>NaN</td>\n",
       "      <td>3.590000</td>\n",
       "      <td>3.410000</td>\n",
       "      <td>9.400000</td>\n",
       "      <td>116.000000</td>\n",
       "      <td>5500.000000</td>\n",
       "      <td>30.000000</td>\n",
       "      <td>34.000000</td>\n",
       "      <td>16500.000000</td>\n",
       "    </tr>\n",
       "    <tr>\n",
       "      <th>max</th>\n",
       "      <td>3.000000</td>\n",
       "      <td>256.000000</td>\n",
       "      <td>NaN</td>\n",
       "      <td>NaN</td>\n",
       "      <td>NaN</td>\n",
       "      <td>NaN</td>\n",
       "      <td>NaN</td>\n",
       "      <td>NaN</td>\n",
       "      <td>NaN</td>\n",
       "      <td>120.900000</td>\n",
       "      <td>...</td>\n",
       "      <td>326.000000</td>\n",
       "      <td>NaN</td>\n",
       "      <td>3.940000</td>\n",
       "      <td>4.170000</td>\n",
       "      <td>23.000000</td>\n",
       "      <td>288.000000</td>\n",
       "      <td>6600.000000</td>\n",
       "      <td>49.000000</td>\n",
       "      <td>54.000000</td>\n",
       "      <td>45400.000000</td>\n",
       "    </tr>\n",
       "  </tbody>\n",
       "</table>\n",
       "<p>11 rows × 26 columns</p>\n",
       "</div>"
      ],
      "text/plain": [
       "         symboling  normalized-losses    make fuel-type aspiration  \\\n",
       "count   205.000000         164.000000     205       205        205   \n",
       "unique         NaN                NaN      22         2          2   \n",
       "top            NaN                NaN  toyota       gas        std   \n",
       "freq           NaN                NaN      32       185        168   \n",
       "mean      0.834146         122.000000     NaN       NaN        NaN   \n",
       "std       1.245307          35.442168     NaN       NaN        NaN   \n",
       "min      -2.000000          65.000000     NaN       NaN        NaN   \n",
       "25%       0.000000          94.000000     NaN       NaN        NaN   \n",
       "50%       1.000000         115.000000     NaN       NaN        NaN   \n",
       "75%       2.000000         150.000000     NaN       NaN        NaN   \n",
       "max       3.000000         256.000000     NaN       NaN        NaN   \n",
       "\n",
       "       num-of-doors body-style drive-wheels engine-location  wheel-base  ...  \\\n",
       "count           203        205          205             205  205.000000  ...   \n",
       "unique            2          5            3               2         NaN  ...   \n",
       "top            four      sedan          fwd           front         NaN  ...   \n",
       "freq            114         96          120             202         NaN  ...   \n",
       "mean            NaN        NaN          NaN             NaN   98.756585  ...   \n",
       "std             NaN        NaN          NaN             NaN    6.021776  ...   \n",
       "min             NaN        NaN          NaN             NaN   86.600000  ...   \n",
       "25%             NaN        NaN          NaN             NaN   94.500000  ...   \n",
       "50%             NaN        NaN          NaN             NaN   97.000000  ...   \n",
       "75%             NaN        NaN          NaN             NaN  102.400000  ...   \n",
       "max             NaN        NaN          NaN             NaN  120.900000  ...   \n",
       "\n",
       "        engine-size  fuel-system        bore      stroke compression-ratio  \\\n",
       "count    205.000000          205  201.000000  201.000000        205.000000   \n",
       "unique          NaN            8         NaN         NaN               NaN   \n",
       "top             NaN         mpfi         NaN         NaN               NaN   \n",
       "freq            NaN           94         NaN         NaN               NaN   \n",
       "mean     126.907317          NaN    3.329751    3.255423         10.142537   \n",
       "std       41.642693          NaN    0.273539    0.316717          3.972040   \n",
       "min       61.000000          NaN    2.540000    2.070000          7.000000   \n",
       "25%       97.000000          NaN    3.150000    3.110000          8.600000   \n",
       "50%      120.000000          NaN    3.310000    3.290000          9.000000   \n",
       "75%      141.000000          NaN    3.590000    3.410000          9.400000   \n",
       "max      326.000000          NaN    3.940000    4.170000         23.000000   \n",
       "\n",
       "        horsepower     peak-rpm    city-mpg  highway-mpg         price  \n",
       "count   203.000000   203.000000  205.000000   205.000000    201.000000  \n",
       "unique         NaN          NaN         NaN          NaN           NaN  \n",
       "top            NaN          NaN         NaN          NaN           NaN  \n",
       "freq           NaN          NaN         NaN          NaN           NaN  \n",
       "mean    104.256158  5125.369458   25.219512    30.751220  13207.129353  \n",
       "std      39.714369   479.334560    6.542142     6.886443   7947.066342  \n",
       "min      48.000000  4150.000000   13.000000    16.000000   5118.000000  \n",
       "25%      70.000000  4800.000000   19.000000    25.000000   7775.000000  \n",
       "50%      95.000000  5200.000000   24.000000    30.000000  10295.000000  \n",
       "75%     116.000000  5500.000000   30.000000    34.000000  16500.000000  \n",
       "max     288.000000  6600.000000   49.000000    54.000000  45400.000000  \n",
       "\n",
       "[11 rows x 26 columns]"
      ]
     },
     "execution_count": 6,
     "metadata": {},
     "output_type": "execute_result"
    }
   ],
   "source": [
    "\"\"\"\n",
    "df.describe() include only columns whith numeric types , we can add a parametre to include all the columns \n",
    "df.describe(include=\"all\")\n",
    "\"\"\"\n",
    "df.describe(include=\"all\")"
   ]
  },
  {
   "cell_type": "code",
   "execution_count": 7,
   "metadata": {},
   "outputs": [
    {
     "name": "stdout",
     "output_type": "stream",
     "text": [
      "<class 'pandas.core.frame.DataFrame'>\n",
      "RangeIndex: 205 entries, 0 to 204\n",
      "Data columns (total 26 columns):\n",
      " #   Column             Non-Null Count  Dtype  \n",
      "---  ------             --------------  -----  \n",
      " 0   symboling          205 non-null    int64  \n",
      " 1   normalized-losses  164 non-null    float64\n",
      " 2   make               205 non-null    object \n",
      " 3   fuel-type          205 non-null    object \n",
      " 4   aspiration         205 non-null    object \n",
      " 5   num-of-doors       203 non-null    object \n",
      " 6   body-style         205 non-null    object \n",
      " 7   drive-wheels       205 non-null    object \n",
      " 8   engine-location    205 non-null    object \n",
      " 9   wheel-base         205 non-null    float64\n",
      " 10  length             205 non-null    float64\n",
      " 11  width              205 non-null    float64\n",
      " 12  height             205 non-null    float64\n",
      " 13  curb-weight        205 non-null    int64  \n",
      " 14  engine-type        205 non-null    object \n",
      " 15  num-of-cylinders   205 non-null    object \n",
      " 16  engine-size        205 non-null    int64  \n",
      " 17  fuel-system        205 non-null    object \n",
      " 18  bore               201 non-null    float64\n",
      " 19  stroke             201 non-null    float64\n",
      " 20  compression-ratio  205 non-null    float64\n",
      " 21  horsepower         203 non-null    float64\n",
      " 22  peak-rpm           203 non-null    float64\n",
      " 23  city-mpg           205 non-null    int64  \n",
      " 24  highway-mpg        205 non-null    int64  \n",
      " 25  price              201 non-null    float64\n",
      "dtypes: float64(11), int64(5), object(10)\n",
      "memory usage: 41.8+ KB\n"
     ]
    }
   ],
   "source": [
    "\"\"\"\n",
    "Provides a concise summary of your DataFrame\n",
    "\"\"\"\n",
    "df.info()"
   ]
  },
  {
   "cell_type": "code",
   "execution_count": 8,
   "metadata": {},
   "outputs": [
    {
     "data": {
      "text/plain": [
       "symboling              int64\n",
       "normalized-losses    float64\n",
       "make                  object\n",
       "fuel-type             object\n",
       "aspiration            object\n",
       "num-of-doors          object\n",
       "body-style            object\n",
       "drive-wheels          object\n",
       "engine-location       object\n",
       "wheel-base           float64\n",
       "length               float64\n",
       "width                float64\n",
       "height               float64\n",
       "curb-weight            int64\n",
       "engine-type           object\n",
       "num-of-cylinders      object\n",
       "engine-size            int64\n",
       "fuel-system           object\n",
       "bore                 float64\n",
       "stroke               float64\n",
       "compression-ratio    float64\n",
       "horsepower           float64\n",
       "peak-rpm             float64\n",
       "city-mpg               int64\n",
       "highway-mpg            int64\n",
       "price                float64\n",
       "dtype: object"
      ]
     },
     "execution_count": 8,
     "metadata": {},
     "output_type": "execute_result"
    }
   ],
   "source": [
    "\"\"\"\n",
    "To check Data types\n",
    "\"\"\"\n",
    "df.dtypes"
   ]
  },
  {
   "cell_type": "markdown",
   "metadata": {},
   "source": [
    "<h2 style=\"color:green;\">Pre-processing and Converting data</h2>"
   ]
  },
  {
   "cell_type": "code",
   "execution_count": 9,
   "metadata": {},
   "outputs": [
    {
     "data": {
      "text/plain": [
       "count      201.000000\n",
       "mean     13207.129353\n",
       "std       7947.066342\n",
       "min       5118.000000\n",
       "25%       7775.000000\n",
       "50%      10295.000000\n",
       "75%      16500.000000\n",
       "max      45400.000000\n",
       "Name: price, dtype: float64"
      ]
     },
     "execution_count": 9,
     "metadata": {},
     "output_type": "execute_result"
    }
   ],
   "source": [
    "df[\"price\"]=pd.to_numeric(df[\"price\"],errors=\"coerce\")\n",
    "## and then we can convert it to numeric as we can drop the rows that contain Nan Value\n",
    "\n",
    "### axis=0 removes the row / axis=1 removes the columns\n",
    "df.dropna(subset=['price'],axis=0,inplace=True)\n",
    "\n",
    "df[\"price\"].describe()"
   ]
  },
  {
   "cell_type": "markdown",
   "metadata": {},
   "source": [
    "<h3 style=\"color:blue;\">Replace it by the mean value Instead</h3>"
   ]
  },
  {
   "cell_type": "code",
   "execution_count": 10,
   "metadata": {},
   "outputs": [
    {
     "data": {
      "text/plain": [
       "0      122.0\n",
       "1      122.0\n",
       "2      122.0\n",
       "3      164.0\n",
       "4      164.0\n",
       "       ...  \n",
       "200     95.0\n",
       "201     95.0\n",
       "202     95.0\n",
       "203     95.0\n",
       "204     95.0\n",
       "Name: normalized-losses, Length: 201, dtype: float64"
      ]
     },
     "execution_count": 10,
     "metadata": {},
     "output_type": "execute_result"
    }
   ],
   "source": [
    "pd.to_numeric(df[\"normalized-losses\"],errors=\"coerce\")\n",
    "\n",
    "#replace with the mean value \n",
    "mean=df[\"normalized-losses\"].mean()\n",
    "df[\"normalized-losses\"].replace(np.nan,mean) ## replace the nan value with the mean one"
   ]
  },
  {
   "cell_type": "markdown",
   "metadata": {},
   "source": [
    "<h2 style=\"color:green;\">Renaming columns</h2>"
   ]
  },
  {
   "cell_type": "code",
   "execution_count": 11,
   "metadata": {},
   "outputs": [],
   "source": [
    "#replace with the mean value \n",
    "df[\"city-mpg\"]=235/df[\"city-mpg\"]\n",
    "## rename the columns after formatting\n",
    "df.rename(columns={\"city-mpg\":\"city-L/100Km\"},inplace=True)\n"
   ]
  },
  {
   "cell_type": "markdown",
   "metadata": {},
   "source": [
    "<h2 style=\"color:green;\">Normalizing a column using a simple feature scaling</h2>"
   ]
  },
  {
   "cell_type": "code",
   "execution_count": 12,
   "metadata": {},
   "outputs": [
    {
     "data": {
      "text/plain": [
       "0    0.811148\n",
       "1    0.811148\n",
       "2    0.822681\n",
       "3    0.848630\n",
       "4    0.848630\n",
       "Name: length, dtype: float64"
      ]
     },
     "execution_count": 12,
     "metadata": {},
     "output_type": "execute_result"
    }
   ],
   "source": [
    "##### normalizing the length which is the one used for this dataset, but you'll find other methods bellow\n",
    "df[\"length\"]=df[\"length\"]/df[\"length\"].max()\n",
    "df[\"length\"].head(5)"
   ]
  },
  {
   "cell_type": "markdown",
   "metadata": {},
   "source": [
    "<h2 style=\"color:green;\">Normalizing a column using Min max method</h2>"
   ]
  },
  {
   "cell_type": "code",
   "execution_count": 13,
   "metadata": {},
   "outputs": [],
   "source": [
    "#### using min max method \n",
    "df[\"length\"]=(df[\"length\"]-df[\"length\"].min())/(df[\"length\"].max()-df[\"length\"].min())"
   ]
  },
  {
   "cell_type": "markdown",
   "metadata": {},
   "source": [
    "<h2 style=\"color:green;\">Normalizing a column using Z score</h2>"
   ]
  },
  {
   "cell_type": "code",
   "execution_count": 14,
   "metadata": {},
   "outputs": [],
   "source": [
    "### usign z core\n",
    "df[\"length\"]=(df[\"length\"]-df[\"length\"].mean())/df[\"length\"].std()"
   ]
  },
  {
   "cell_type": "markdown",
   "metadata": {},
   "source": [
    "<h2 style=\"color:green;\">Binning in python:</h2>"
   ]
  },
  {
   "cell_type": "code",
   "execution_count": 15,
   "metadata": {},
   "outputs": [
    {
     "name": "stdout",
     "output_type": "stream",
     "text": [
      "Price: 13495.0, Price Binned: Low\n",
      "Price: 16500.0, Price Binned: Low\n",
      "Price: 16500.0, Price Binned: Low\n",
      "Price: 13950.0, Price Binned: Low\n",
      "Price: 17450.0, Price Binned: Low\n"
     ]
    }
   ],
   "source": [
    "### creating bins:\n",
    "bins = np.linspace(min(df['price']),max(df['price']),4)\n",
    "group_names=[\"Low\", \"Medium\",\"High\"]\n",
    "df[\"price-binned\"]=pd.cut(df['price'],bins,labels=group_names,include_lowest=True)\n",
    "for price, price_binned in zip(df[\"price\"].head(5), df[\"price-binned\"].head()):\n",
    "    print(f\"Price: {price}, Price Binned: {price_binned}\")\n",
    "    "
   ]
  },
  {
   "cell_type": "code",
   "execution_count": 16,
   "metadata": {},
   "outputs": [
    {
     "data": {
      "image/png": "[encoded data removed]",
      "text/plain": [
       "<Figure size 640x480 with 1 Axes>"
      ]
     },
     "metadata": {},
     "output_type": "display_data"
    }
   ],
   "source": [
    "plots = []\n",
    "fig1, ax1 = plt.subplots()\n",
    "plots.append(ax1)\n",
    "ax1.hist(df[\"price-binned\"])\n",
    "ax1.set_xlabel(\"Price\")\n",
    "ax1.set_ylabel(\"count\")\n",
    "ax1.set_title(\"price binned\")\n",
    "plt.show()\n"
   ]
  },
  {
   "cell_type": "markdown",
   "metadata": {},
   "source": [
    "<h5 style=\"color:blue;\">Turning categorical variables into quantitative variables in Python</h5>"
   ]
  },
  {
   "cell_type": "code",
   "execution_count": 17,
   "metadata": {},
   "outputs": [],
   "source": [
    "## get_dummies function converts categorical variable into dummy/indicator variables\n",
    "dummy_variable_2=pd.get_dummies(df['aspiration'])\n",
    "## renaming the columns\n",
    "dummy_variable_2.rename(columns={\"std\":\"aspiration-std\",\"turbo\":\"aspiration-turbo\"},inplace=True)\n",
    "## concat the new dataframe that has two columns now std and turbo with the existing dataFrame\n",
    "df=pd.concat([df,dummy_variable_2],axis=1)\n"
   ]
  },
  {
   "cell_type": "markdown",
   "metadata": {},
   "source": [
    "<h2 style=\"color:green;\">Summarize the categorical data using <code>Columns.value_counts()</code> </h2>"
   ]
  },
  {
   "cell_type": "code",
   "execution_count": 18,
   "metadata": {},
   "outputs": [
    {
     "data": {
      "text/plain": [
       "drive-wheels\n",
       "fwd    118\n",
       "rwd     75\n",
       "4wd      8\n",
       "Name: count, dtype: int64"
      ]
     },
     "execution_count": 18,
     "metadata": {},
     "output_type": "execute_result"
    }
   ],
   "source": [
    "drive_wheel_count=df[\"drive-wheels\"].value_counts()\n",
    "drive_wheel_count"
   ]
  },
  {
   "cell_type": "markdown",
   "metadata": {},
   "source": [
    "<h2 style=\"color:green\">Group the data using <code>DataFrame.groupby()</code></h2>"
   ]
  },
  {
   "cell_type": "code",
   "execution_count": 19,
   "metadata": {},
   "outputs": [
    {
     "data": {
      "text/html": [
       "<div>\n",
       "<style scoped>\n",
       "    .dataframe tbody tr th:only-of-type {\n",
       "        vertical-align: middle;\n",
       "    }\n",
       "\n",
       "    .dataframe tbody tr th {\n",
       "        vertical-align: top;\n",
       "    }\n",
       "\n",
       "    .dataframe thead th {\n",
       "        text-align: right;\n",
       "    }\n",
       "</style>\n",
       "<table border=\"1\" class=\"dataframe\">\n",
       "  <thead>\n",
       "    <tr style=\"text-align: right;\">\n",
       "      <th></th>\n",
       "      <th>drive-wheels</th>\n",
       "      <th>body-style</th>\n",
       "      <th>price</th>\n",
       "    </tr>\n",
       "  </thead>\n",
       "  <tbody>\n",
       "    <tr>\n",
       "      <th>0</th>\n",
       "      <td>4wd</td>\n",
       "      <td>hatchback</td>\n",
       "      <td>7603.000000</td>\n",
       "    </tr>\n",
       "    <tr>\n",
       "      <th>1</th>\n",
       "      <td>4wd</td>\n",
       "      <td>sedan</td>\n",
       "      <td>12647.333333</td>\n",
       "    </tr>\n",
       "    <tr>\n",
       "      <th>2</th>\n",
       "      <td>4wd</td>\n",
       "      <td>wagon</td>\n",
       "      <td>9095.750000</td>\n",
       "    </tr>\n",
       "    <tr>\n",
       "      <th>3</th>\n",
       "      <td>fwd</td>\n",
       "      <td>convertible</td>\n",
       "      <td>11595.000000</td>\n",
       "    </tr>\n",
       "    <tr>\n",
       "      <th>4</th>\n",
       "      <td>fwd</td>\n",
       "      <td>hardtop</td>\n",
       "      <td>8249.000000</td>\n",
       "    </tr>\n",
       "    <tr>\n",
       "      <th>5</th>\n",
       "      <td>fwd</td>\n",
       "      <td>hatchback</td>\n",
       "      <td>8396.387755</td>\n",
       "    </tr>\n",
       "    <tr>\n",
       "      <th>6</th>\n",
       "      <td>fwd</td>\n",
       "      <td>sedan</td>\n",
       "      <td>9811.800000</td>\n",
       "    </tr>\n",
       "    <tr>\n",
       "      <th>7</th>\n",
       "      <td>fwd</td>\n",
       "      <td>wagon</td>\n",
       "      <td>9997.333333</td>\n",
       "    </tr>\n",
       "    <tr>\n",
       "      <th>8</th>\n",
       "      <td>rwd</td>\n",
       "      <td>convertible</td>\n",
       "      <td>23949.600000</td>\n",
       "    </tr>\n",
       "    <tr>\n",
       "      <th>9</th>\n",
       "      <td>rwd</td>\n",
       "      <td>hardtop</td>\n",
       "      <td>24202.714286</td>\n",
       "    </tr>\n",
       "    <tr>\n",
       "      <th>10</th>\n",
       "      <td>rwd</td>\n",
       "      <td>hatchback</td>\n",
       "      <td>14337.777778</td>\n",
       "    </tr>\n",
       "    <tr>\n",
       "      <th>11</th>\n",
       "      <td>rwd</td>\n",
       "      <td>sedan</td>\n",
       "      <td>21711.833333</td>\n",
       "    </tr>\n",
       "    <tr>\n",
       "      <th>12</th>\n",
       "      <td>rwd</td>\n",
       "      <td>wagon</td>\n",
       "      <td>16994.222222</td>\n",
       "    </tr>\n",
       "  </tbody>\n",
       "</table>\n",
       "</div>"
      ],
      "text/plain": [
       "   drive-wheels   body-style         price\n",
       "0           4wd    hatchback   7603.000000\n",
       "1           4wd        sedan  12647.333333\n",
       "2           4wd        wagon   9095.750000\n",
       "3           fwd  convertible  11595.000000\n",
       "4           fwd      hardtop   8249.000000\n",
       "5           fwd    hatchback   8396.387755\n",
       "6           fwd        sedan   9811.800000\n",
       "7           fwd        wagon   9997.333333\n",
       "8           rwd  convertible  23949.600000\n",
       "9           rwd      hardtop  24202.714286\n",
       "10          rwd    hatchback  14337.777778\n",
       "11          rwd        sedan  21711.833333\n",
       "12          rwd        wagon  16994.222222"
      ]
     },
     "execution_count": 19,
     "metadata": {},
     "output_type": "execute_result"
    }
   ],
   "source": [
    "### group by \n",
    "df_test= df[[\"drive-wheels\",\"body-style\",\"price\"]]\n",
    "\"\"\"\n",
    "By setting as_index=False, the group columns will not be used as the index and will remain as regular columns in the output DataFrame\n",
    "Will group by the combination of \"drive-wheels\" and \"body-style\" and calculate the mean the price\n",
    "\"\"\"\n",
    "df_grp = df_test.groupby([\"drive-wheels\",\"body-style\"],as_index=False).mean()\n",
    "df_grp"
   ]
  },
  {
   "cell_type": "markdown",
   "metadata": {},
   "source": [
    "<p> These values are not the easier to read , that is why we use the method <code>pivot()</code></p>"
   ]
  },
  {
   "cell_type": "code",
   "execution_count": 20,
   "metadata": {},
   "outputs": [
    {
     "data": {
      "text/html": [
       "<div>\n",
       "<style scoped>\n",
       "    .dataframe tbody tr th:only-of-type {\n",
       "        vertical-align: middle;\n",
       "    }\n",
       "\n",
       "    .dataframe tbody tr th {\n",
       "        vertical-align: top;\n",
       "    }\n",
       "\n",
       "    .dataframe thead tr th {\n",
       "        text-align: left;\n",
       "    }\n",
       "\n",
       "    .dataframe thead tr:last-of-type th {\n",
       "        text-align: right;\n",
       "    }\n",
       "</style>\n",
       "<table border=\"1\" class=\"dataframe\">\n",
       "  <thead>\n",
       "    <tr>\n",
       "      <th></th>\n",
       "      <th colspan=\"5\" halign=\"left\">price</th>\n",
       "    </tr>\n",
       "    <tr>\n",
       "      <th>body-style</th>\n",
       "      <th>convertible</th>\n",
       "      <th>hardtop</th>\n",
       "      <th>hatchback</th>\n",
       "      <th>sedan</th>\n",
       "      <th>wagon</th>\n",
       "    </tr>\n",
       "    <tr>\n",
       "      <th>drive-wheels</th>\n",
       "      <th></th>\n",
       "      <th></th>\n",
       "      <th></th>\n",
       "      <th></th>\n",
       "      <th></th>\n",
       "    </tr>\n",
       "  </thead>\n",
       "  <tbody>\n",
       "    <tr>\n",
       "      <th>4wd</th>\n",
       "      <td>NaN</td>\n",
       "      <td>NaN</td>\n",
       "      <td>7603.000000</td>\n",
       "      <td>12647.333333</td>\n",
       "      <td>9095.750000</td>\n",
       "    </tr>\n",
       "    <tr>\n",
       "      <th>fwd</th>\n",
       "      <td>11595.0</td>\n",
       "      <td>8249.000000</td>\n",
       "      <td>8396.387755</td>\n",
       "      <td>9811.800000</td>\n",
       "      <td>9997.333333</td>\n",
       "    </tr>\n",
       "    <tr>\n",
       "      <th>rwd</th>\n",
       "      <td>23949.6</td>\n",
       "      <td>24202.714286</td>\n",
       "      <td>14337.777778</td>\n",
       "      <td>21711.833333</td>\n",
       "      <td>16994.222222</td>\n",
       "    </tr>\n",
       "  </tbody>\n",
       "</table>\n",
       "</div>"
      ],
      "text/plain": [
       "                   price                                            \\\n",
       "body-style   convertible       hardtop     hatchback         sedan   \n",
       "drive-wheels                                                         \n",
       "4wd                  NaN           NaN   7603.000000  12647.333333   \n",
       "fwd              11595.0   8249.000000   8396.387755   9811.800000   \n",
       "rwd              23949.6  24202.714286  14337.777778  21711.833333   \n",
       "\n",
       "                            \n",
       "body-style           wagon  \n",
       "drive-wheels                \n",
       "4wd            9095.750000  \n",
       "fwd            9997.333333  \n",
       "rwd           16994.222222  "
      ]
     },
     "execution_count": 20,
     "metadata": {},
     "output_type": "execute_result"
    }
   ],
   "source": [
    "### Return reshaped DataFrame organized by given index / column values.\n",
    "df_pivot= df_grp.pivot(index=\"drive-wheels\",columns=\"body-style\")\n",
    "df_pivot"
   ]
  },
  {
   "cell_type": "markdown",
   "metadata": {},
   "source": [
    "We can also visualize the data using heatmaps"
   ]
  },
  {
   "cell_type": "code",
   "execution_count": 21,
   "metadata": {},
   "outputs": [
    {
     "name": "stderr",
     "output_type": "stream",
     "text": [
      "C:\\Users\\acer\\AppData\\Local\\Temp\\ipykernel_7692\\3307267215.py:9: MatplotlibDeprecationWarning: Getting the array from a PolyQuadMesh will return the full array in the future (uncompressed). To get this behavior now set the PolyQuadMesh with a 2D array .set_array(data2d).\n",
      "  fig2.colorbar(c,ax=ax2)\n"
     ]
    },
    {
     "data": {
      "image/png": "[encoded data removed]",
      "text/plain": [
       "<Figure size 640x480 with 2 Axes>"
      ]
     },
     "metadata": {},
     "output_type": "display_data"
    }
   ],
   "source": [
    "#### using the heatmap\n",
    "fig2, ax2 = plt.subplots()\n",
    "plots.append(fig2)\n",
    "\n",
    "ax2.set_xlabel(\"drive wheels\")\n",
    "ax2.set_ylabel(\"body style\")\n",
    "\n",
    "c=ax2.pcolor(df_pivot,cmap=\"RdBu\")\n",
    "fig2.colorbar(c,ax=ax2)\n",
    "plt.show()"
   ]
  },
  {
   "cell_type": "markdown",
   "metadata": {},
   "source": [
    "<h2 style=\"color:green\">Analysis of variance (ANOVA)</h2>"
   ]
  },
  {
   "cell_type": "code",
   "execution_count": 22,
   "metadata": {},
   "outputs": [
    {
     "data": {
      "text/plain": [
       "F_onewayResult(statistic=0.19744030127462606, pvalue=0.6609478240622193)"
      ]
     },
     "execution_count": 22,
     "metadata": {},
     "output_type": "execute_result"
    }
   ],
   "source": [
    "### the anova method\n",
    "df_anova = df[[\"make\",\"price\"]]\n",
    "grouped_anova = df_anova.groupby(\"make\")\n",
    "anova_results_1=stats.f_oneway (\n",
    "    grouped_anova.get_group(\"honda\") [\"price\"],\n",
    "    grouped_anova.get_group (\"subaru\") [\"price\"])\n",
    "\n",
    "anova_results_1\n"
   ]
  },
  {
   "cell_type": "markdown",
   "metadata": {},
   "source": [
    "The prices between Hondas and Subarus are not significantly different, as the F-test score is less than 1 and p-value is larger than 0.05."
   ]
  },
  {
   "cell_type": "markdown",
   "metadata": {},
   "source": [
    "<h2 style=\"color:green;\">Correlation</h2>"
   ]
  },
  {
   "cell_type": "markdown",
   "metadata": {},
   "source": [
    "•\tMeasures to what extent different variables are interdependent."
   ]
  },
  {
   "cell_type": "code",
   "execution_count": 23,
   "metadata": {},
   "outputs": [
    {
     "data": {
      "text/plain": [
       "(0.0, 48177.33725678761)"
      ]
     },
     "execution_count": 23,
     "metadata": {},
     "output_type": "execute_result"
    },
    {
     "data": {
      "image/png": "[encoded data removed]",
      "text/plain": [
       "<Figure size 640x480 with 1 Axes>"
      ]
     },
     "metadata": {},
     "output_type": "display_data"
    }
   ],
   "source": [
    "### correlation\n",
    "fig3, ax3= plt.subplots()\n",
    "plots.append(fig3)\n",
    "\n",
    "\n",
    "sns.regplot(x=\"highway-mpg\",y=\"price\",data=df,color=\".3\", line_kws=dict(color=\"r\"))\n",
    "plt.ylim(0,) ## add a regression line to indicate the relationship between the 2"
   ]
  },
  {
   "cell_type": "markdown",
   "metadata": {},
   "source": [
    "<h3>Calculate the correlation</h3>"
   ]
  },
  {
   "cell_type": "code",
   "execution_count": 24,
   "metadata": {},
   "outputs": [
    {
     "name": "stdout",
     "output_type": "stream",
     "text": [
      "0.8105330821322063\n",
      "1.1891278276945975e-47\n"
     ]
    }
   ],
   "source": [
    "df_cleaned = df.dropna(subset=[\"horsepower\", \"price\"])\n",
    "person_coef, p_value = stats.pearsonr(df_cleaned[\"horsepower\"], df_cleaned[\"price\"])\n",
    "print(person_coef)\n",
    "print(p_value)"
   ]
  },
  {
   "cell_type": "markdown",
   "metadata": {},
   "source": [
    "person_coef is close to 1 means there is a strong positive correlation between the two variables\n",
    "the p_value is small that means that the observed correlation is not due to random chance, indicating a strong likelihood of a true association between \"horsepower\" and \"price\"."
   ]
  },
  {
   "cell_type": "markdown",
   "metadata": {},
   "source": [
    "<h2 style=\"color:green;\">Model Developement</h2>"
   ]
  },
  {
   "cell_type": "markdown",
   "metadata": {},
   "source": [
    "<h3 style=\"color:blue;\">Simple linear regression</h3>"
   ]
  },
  {
   "cell_type": "code",
   "execution_count": 25,
   "metadata": {},
   "outputs": [
    {
     "data": {
      "text/plain": [
       "array([[16236.50464347],\n",
       "       [16236.50464347],\n",
       "       [17058.23802179],\n",
       "       [13771.3045085 ],\n",
       "       [20345.17153508],\n",
       "       [17879.97140011],\n",
       "       [17879.97140011],\n",
       "       [17879.97140011],\n",
       "       [21988.63829172],\n",
       "       [14593.03788682],\n",
       "       [14593.03788682],\n",
       "       [15414.77126514],\n",
       "       [15414.77126514],\n",
       "       [17879.97140011],\n",
       "       [20345.17153508],\n",
       "       [20345.17153508],\n",
       "       [21988.63829172],\n",
       "       [-5128.5631929 ],\n",
       "       [ 3088.77059031],\n",
       "       [ 3088.77059031],\n",
       "       [ 4732.23734696],\n",
       "       [ 7197.43748192],\n",
       "       [13771.3045085 ],\n",
       "       [ 7197.43748192],\n",
       "       [ 7197.43748192],\n",
       "       [ 7197.43748192],\n",
       "       [13771.3045085 ],\n",
       "       [13771.3045085 ],\n",
       "       [18701.70477843],\n",
       "       [-5950.29657123],\n",
       "       [ 7197.43748192],\n",
       "       [ 3910.50396864],\n",
       "       [10484.37099521],\n",
       "       [10484.37099521],\n",
       "       [10484.37099521],\n",
       "       [10484.37099521],\n",
       "       [11306.10437353],\n",
       "       [11306.10437353],\n",
       "       [11306.10437353],\n",
       "       [11306.10437353],\n",
       "       [15414.77126514],\n",
       "       [12949.57113018],\n",
       "       [14593.03788682],\n",
       "       [14593.03788682],\n",
       "       [22810.37167004],\n",
       "       [22810.37167004],\n",
       "       [24453.83842668],\n",
       "       [12949.57113018],\n",
       "       [ 7197.43748192],\n",
       "       [ 7197.43748192],\n",
       "       [ 7197.43748192],\n",
       "       [ 7197.43748192],\n",
       "       [19523.43815675],\n",
       "       [19523.43815675],\n",
       "       [19523.43815675],\n",
       "       [19523.43815675],\n",
       "       [12127.83775186],\n",
       "       [12127.83775186],\n",
       "       [12127.83775186],\n",
       "       [12127.83775186],\n",
       "       [ 3910.50396864],\n",
       "       [12127.83775186],\n",
       "       [16236.50464347],\n",
       "       [ 6375.7041036 ],\n",
       "       [17879.97140011],\n",
       "       [17879.97140011],\n",
       "       [17879.97140011],\n",
       "       [17879.97140011],\n",
       "       [23632.10504836],\n",
       "       [23632.10504836],\n",
       "       [25275.57180501],\n",
       "       [25275.57180501],\n",
       "       [18701.70477843],\n",
       "       [ 4732.23734696],\n",
       "       [ 7197.43748192],\n",
       "       [ 7197.43748192],\n",
       "       [13771.3045085 ],\n",
       "       [13771.3045085 ],\n",
       "       [12127.83775186],\n",
       "       [18701.70477843],\n",
       "       [18701.70477843],\n",
       "       [18701.70477843],\n",
       "       [12127.83775186],\n",
       "       [12127.83775186],\n",
       "       [13771.3045085 ],\n",
       "       [13771.3045085 ],\n",
       "       [ 8019.17086025],\n",
       "       [-2663.36305794],\n",
       "       [ 8019.17086025],\n",
       "       [ 8019.17086025],\n",
       "       [ 8019.17086025],\n",
       "       [ 8019.17086025],\n",
       "       [ 8019.17086025],\n",
       "       [ 8019.17086025],\n",
       "       [ 8019.17086025],\n",
       "       [ 8019.17086025],\n",
       "       [10484.37099521],\n",
       "       [10484.37099521],\n",
       "       [20345.17153508],\n",
       "       [20345.17153508],\n",
       "       [17879.97140011],\n",
       "       [17879.97140011],\n",
       "       [19523.43815675],\n",
       "       [17879.97140011],\n",
       "       [18701.70477843],\n",
       "       [11306.10437353],\n",
       "       [18701.70477843],\n",
       "       [17879.97140011],\n",
       "       [18701.70477843],\n",
       "       [11306.10437353],\n",
       "       [18701.70477843],\n",
       "       [17879.97140011],\n",
       "       [18701.70477843],\n",
       "       [11306.10437353],\n",
       "       [18701.70477843],\n",
       "       [ 4732.23734696],\n",
       "       [13771.3045085 ],\n",
       "       [ 7197.43748192],\n",
       "       [ 7197.43748192],\n",
       "       [ 7197.43748192],\n",
       "       [13771.3045085 ],\n",
       "       [18701.70477843],\n",
       "       [16236.50464347],\n",
       "       [17879.97140011],\n",
       "       [17879.97140011],\n",
       "       [17879.97140011],\n",
       "       [12949.57113018],\n",
       "       [12949.57113018],\n",
       "       [15414.77126514],\n",
       "       [15414.77126514],\n",
       "       [15414.77126514],\n",
       "       [15414.77126514],\n",
       "       [17058.23802179],\n",
       "       [17058.23802179],\n",
       "       [ 8840.90423857],\n",
       "       [12949.57113018],\n",
       "       [12949.57113018],\n",
       "       [ 8019.17086025],\n",
       "       [11306.10437353],\n",
       "       [12127.83775186],\n",
       "       [17879.97140011],\n",
       "       [14593.03788682],\n",
       "       [12127.83775186],\n",
       "       [12949.57113018],\n",
       "       [14593.03788682],\n",
       "       [19523.43815675],\n",
       "       [ 6375.7041036 ],\n",
       "       [ 7197.43748192],\n",
       "       [ 7197.43748192],\n",
       "       [ 8019.17086025],\n",
       "       [12127.83775186],\n",
       "       [12127.83775186],\n",
       "       [ 8019.17086025],\n",
       "       [ 8019.17086025],\n",
       "       [ 8840.90423857],\n",
       "       [ -198.16292297],\n",
       "       [ -198.16292297],\n",
       "       [10484.37099521],\n",
       "       [10484.37099521],\n",
       "       [10484.37099521],\n",
       "       [10484.37099521],\n",
       "       [14593.03788682],\n",
       "       [14593.03788682],\n",
       "       [13771.3045085 ],\n",
       "       [13771.3045085 ],\n",
       "       [13771.3045085 ],\n",
       "       [13771.3045085 ],\n",
       "       [13771.3045085 ],\n",
       "       [13771.3045085 ],\n",
       "       [10484.37099521],\n",
       "       [11306.10437353],\n",
       "       [12127.83775186],\n",
       "       [12127.83775186],\n",
       "       [12127.83775186],\n",
       "       [18701.70477843],\n",
       "       [18701.70477843],\n",
       "       [18701.70477843],\n",
       "       [18701.70477843],\n",
       "       [  623.57045535],\n",
       "       [10484.37099521],\n",
       "       [  623.57045535],\n",
       "       [10484.37099521],\n",
       "       [10484.37099521],\n",
       "       [ 3910.50396864],\n",
       "       [12127.83775186],\n",
       "       [14593.03788682],\n",
       "       [14593.03788682],\n",
       "       [18701.70477843],\n",
       "       [ 7197.43748192],\n",
       "       [12949.57113018],\n",
       "       [15414.77126514],\n",
       "       [15414.77126514],\n",
       "       [15414.77126514],\n",
       "       [15414.77126514],\n",
       "       [20345.17153508],\n",
       "       [20345.17153508],\n",
       "       [15414.77126514],\n",
       "       [17879.97140011],\n",
       "       [19523.43815675],\n",
       "       [16236.50464347],\n",
       "       [17879.97140011]])"
      ]
     },
     "execution_count": 25,
     "metadata": {},
     "output_type": "execute_result"
    }
   ],
   "source": [
    "## create an object of the LinearRegression() class\n",
    "lm=LinearRegression()\n",
    "## define the predictor variables and the target variables\n",
    "X= df[[\"highway-mpg\"]]\n",
    "Y=df[[\"price\"]]\n",
    "## train the model using the fit method\n",
    "lm.fit(X,Y)\n",
    "## obtain a predictio using the method predict\n",
    "prediction=lm.predict(X)\n",
    "prediction\n"
   ]
  },
  {
   "cell_type": "markdown",
   "metadata": {},
   "source": [
    "<h5>Showing the values of the intercept <code>b<sub>0</sub></code></h5>"
   ]
  },
  {
   "cell_type": "code",
   "execution_count": 26,
   "metadata": {},
   "outputs": [
    {
     "data": {
      "text/plain": [
       "array([38423.30585816])"
      ]
     },
     "execution_count": 26,
     "metadata": {},
     "output_type": "execute_result"
    }
   ],
   "source": [
    "lm.intercept_"
   ]
  },
  {
   "cell_type": "markdown",
   "metadata": {},
   "source": [
    "<h5>Showing the values of the slope <code>b<sub>1</sub></code></h5>"
   ]
  },
  {
   "cell_type": "code",
   "execution_count": 27,
   "metadata": {},
   "outputs": [
    {
     "data": {
      "text/plain": [
       "array([[-821.73337832]])"
      ]
     },
     "execution_count": 27,
     "metadata": {},
     "output_type": "execute_result"
    }
   ],
   "source": [
    "lm.coef_"
   ]
  },
  {
   "cell_type": "markdown",
   "metadata": {},
   "source": [
    "<p style=\"color:purple\">The relationship is </p>\n",
    "<ul><li>Price = 38423.31 - 821.73 * highway-mpg</li></ul>"
   ]
  },
  {
   "cell_type": "markdown",
   "metadata": {},
   "source": [
    "<h3 style=\"color:blue;\">Multiple linear regression</h3>"
   ]
  },
  {
   "cell_type": "code",
   "execution_count": 28,
   "metadata": {},
   "outputs": [
    {
     "data": {
      "text/html": [
       "<style>#sk-container-id-1 {\n",
       "  /* Definition of color scheme common for light and dark mode */\n",
       "  --sklearn-color-text: black;\n",
       "  --sklearn-color-line: gray;\n",
       "  /* Definition of color scheme for unfitted estimators */\n",
       "  --sklearn-color-unfitted-level-0: #fff5e6;\n",
       "  --sklearn-color-unfitted-level-1: #f6e4d2;\n",
       "  --sklearn-color-unfitted-level-2: #ffe0b3;\n",
       "  --sklearn-color-unfitted-level-3: chocolate;\n",
       "  /* Definition of color scheme for fitted estimators */\n",
       "  --sklearn-color-fitted-level-0: #f0f8ff;\n",
       "  --sklearn-color-fitted-level-1: #d4ebff;\n",
       "  --sklearn-color-fitted-level-2: #b3dbfd;\n",
       "  --sklearn-color-fitted-level-3: cornflowerblue;\n",
       "\n",
       "  /* Specific color for light theme */\n",
       "  --sklearn-color-text-on-default-background: var(--sg-text-color, var(--theme-code-foreground, var(--jp-content-font-color1, black)));\n",
       "  --sklearn-color-background: var(--sg-background-color, var(--theme-background, var(--jp-layout-color0, white)));\n",
       "  --sklearn-color-border-box: var(--sg-text-color, var(--theme-code-foreground, var(--jp-content-font-color1, black)));\n",
       "  --sklearn-color-icon: #696969;\n",
       "\n",
       "  @media (prefers-color-scheme: dark) {\n",
       "    /* Redefinition of color scheme for dark theme */\n",
       "    --sklearn-color-text-on-default-background: var(--sg-text-color, var(--theme-code-foreground, var(--jp-content-font-color1, white)));\n",
       "    --sklearn-color-background: var(--sg-background-color, var(--theme-background, var(--jp-layout-color0, #111)));\n",
       "    --sklearn-color-border-box: var(--sg-text-color, var(--theme-code-foreground, var(--jp-content-font-color1, white)));\n",
       "    --sklearn-color-icon: #878787;\n",
       "  }\n",
       "}\n",
       "\n",
       "#sk-container-id-1 {\n",
       "  color: var(--sklearn-color-text);\n",
       "}\n",
       "\n",
       "#sk-container-id-1 pre {\n",
       "  padding: 0;\n",
       "}\n",
       "\n",
       "#sk-container-id-1 input.sk-hidden--visually {\n",
       "  border: 0;\n",
       "  clip: rect(1px 1px 1px 1px);\n",
       "  clip: rect(1px, 1px, 1px, 1px);\n",
       "  height: 1px;\n",
       "  margin: -1px;\n",
       "  overflow: hidden;\n",
       "  padding: 0;\n",
       "  position: absolute;\n",
       "  width: 1px;\n",
       "}\n",
       "\n",
       "#sk-container-id-1 div.sk-dashed-wrapped {\n",
       "  border: 1px dashed var(--sklearn-color-line);\n",
       "  margin: 0 0.4em 0.5em 0.4em;\n",
       "  box-sizing: border-box;\n",
       "  padding-bottom: 0.4em;\n",
       "  background-color: var(--sklearn-color-background);\n",
       "}\n",
       "\n",
       "#sk-container-id-1 div.sk-container {\n",
       "  /* jupyter's `normalize.less` sets `[hidden] { display: none; }`\n",
       "     but bootstrap.min.css set `[hidden] { display: none !important; }`\n",
       "     so we also need the `!important` here to be able to override the\n",
       "     default hidden behavior on the sphinx rendered scikit-learn.org.\n",
       "     See: https://github.com/scikit-learn/scikit-learn/issues/21755 */\n",
       "  display: inline-block !important;\n",
       "  position: relative;\n",
       "}\n",
       "\n",
       "#sk-container-id-1 div.sk-text-repr-fallback {\n",
       "  display: none;\n",
       "}\n",
       "\n",
       "div.sk-parallel-item,\n",
       "div.sk-serial,\n",
       "div.sk-item {\n",
       "  /* draw centered vertical line to link estimators */\n",
       "  background-image: linear-gradient(var(--sklearn-color-text-on-default-background), var(--sklearn-color-text-on-default-background));\n",
       "  background-size: 2px 100%;\n",
       "  background-repeat: no-repeat;\n",
       "  background-position: center center;\n",
       "}\n",
       "\n",
       "/* Parallel-specific style estimator block */\n",
       "\n",
       "#sk-container-id-1 div.sk-parallel-item::after {\n",
       "  content: \"\";\n",
       "  width: 100%;\n",
       "  border-bottom: 2px solid var(--sklearn-color-text-on-default-background);\n",
       "  flex-grow: 1;\n",
       "}\n",
       "\n",
       "#sk-container-id-1 div.sk-parallel {\n",
       "  display: flex;\n",
       "  align-items: stretch;\n",
       "  justify-content: center;\n",
       "  background-color: var(--sklearn-color-background);\n",
       "  position: relative;\n",
       "}\n",
       "\n",
       "#sk-container-id-1 div.sk-parallel-item {\n",
       "  display: flex;\n",
       "  flex-direction: column;\n",
       "}\n",
       "\n",
       "#sk-container-id-1 div.sk-parallel-item:first-child::after {\n",
       "  align-self: flex-end;\n",
       "  width: 50%;\n",
       "}\n",
       "\n",
       "#sk-container-id-1 div.sk-parallel-item:last-child::after {\n",
       "  align-self: flex-start;\n",
       "  width: 50%;\n",
       "}\n",
       "\n",
       "#sk-container-id-1 div.sk-parallel-item:only-child::after {\n",
       "  width: 0;\n",
       "}\n",
       "\n",
       "/* Serial-specific style estimator block */\n",
       "\n",
       "#sk-container-id-1 div.sk-serial {\n",
       "  display: flex;\n",
       "  flex-direction: column;\n",
       "  align-items: center;\n",
       "  background-color: var(--sklearn-color-background);\n",
       "  padding-right: 1em;\n",
       "  padding-left: 1em;\n",
       "}\n",
       "\n",
       "\n",
       "/* Toggleable style: style used for estimator/Pipeline/ColumnTransformer box that is\n",
       "clickable and can be expanded/collapsed.\n",
       "- Pipeline and ColumnTransformer use this feature and define the default style\n",
       "- Estimators will overwrite some part of the style using the `sk-estimator` class\n",
       "*/\n",
       "\n",
       "/* Pipeline and ColumnTransformer style (default) */\n",
       "\n",
       "#sk-container-id-1 div.sk-toggleable {\n",
       "  /* Default theme specific background. It is overwritten whether we have a\n",
       "  specific estimator or a Pipeline/ColumnTransformer */\n",
       "  background-color: var(--sklearn-color-background);\n",
       "}\n",
       "\n",
       "/* Toggleable label */\n",
       "#sk-container-id-1 label.sk-toggleable__label {\n",
       "  cursor: pointer;\n",
       "  display: block;\n",
       "  width: 100%;\n",
       "  margin-bottom: 0;\n",
       "  padding: 0.5em;\n",
       "  box-sizing: border-box;\n",
       "  text-align: center;\n",
       "}\n",
       "\n",
       "#sk-container-id-1 label.sk-toggleable__label-arrow:before {\n",
       "  /* Arrow on the left of the label */\n",
       "  content: \"▸\";\n",
       "  float: left;\n",
       "  margin-right: 0.25em;\n",
       "  color: var(--sklearn-color-icon);\n",
       "}\n",
       "\n",
       "#sk-container-id-1 label.sk-toggleable__label-arrow:hover:before {\n",
       "  color: var(--sklearn-color-text);\n",
       "}\n",
       "\n",
       "/* Toggleable content - dropdown */\n",
       "\n",
       "#sk-container-id-1 div.sk-toggleable__content {\n",
       "  max-height: 0;\n",
       "  max-width: 0;\n",
       "  overflow: hidden;\n",
       "  text-align: left;\n",
       "  /* unfitted */\n",
       "  background-color: var(--sklearn-color-unfitted-level-0);\n",
       "}\n",
       "\n",
       "#sk-container-id-1 div.sk-toggleable__content.fitted {\n",
       "  /* fitted */\n",
       "  background-color: var(--sklearn-color-fitted-level-0);\n",
       "}\n",
       "\n",
       "#sk-container-id-1 div.sk-toggleable__content pre {\n",
       "  margin: 0.2em;\n",
       "  border-radius: 0.25em;\n",
       "  color: var(--sklearn-color-text);\n",
       "  /* unfitted */\n",
       "  background-color: var(--sklearn-color-unfitted-level-0);\n",
       "}\n",
       "\n",
       "#sk-container-id-1 div.sk-toggleable__content.fitted pre {\n",
       "  /* unfitted */\n",
       "  background-color: var(--sklearn-color-fitted-level-0);\n",
       "}\n",
       "\n",
       "#sk-container-id-1 input.sk-toggleable__control:checked~div.sk-toggleable__content {\n",
       "  /* Expand drop-down */\n",
       "  max-height: 200px;\n",
       "  max-width: 100%;\n",
       "  overflow: auto;\n",
       "}\n",
       "\n",
       "#sk-container-id-1 input.sk-toggleable__control:checked~label.sk-toggleable__label-arrow:before {\n",
       "  content: \"▾\";\n",
       "}\n",
       "\n",
       "/* Pipeline/ColumnTransformer-specific style */\n",
       "\n",
       "#sk-container-id-1 div.sk-label input.sk-toggleable__control:checked~label.sk-toggleable__label {\n",
       "  color: var(--sklearn-color-text);\n",
       "  background-color: var(--sklearn-color-unfitted-level-2);\n",
       "}\n",
       "\n",
       "#sk-container-id-1 div.sk-label.fitted input.sk-toggleable__control:checked~label.sk-toggleable__label {\n",
       "  background-color: var(--sklearn-color-fitted-level-2);\n",
       "}\n",
       "\n",
       "/* Estimator-specific style */\n",
       "\n",
       "/* Colorize estimator box */\n",
       "#sk-container-id-1 div.sk-estimator input.sk-toggleable__control:checked~label.sk-toggleable__label {\n",
       "  /* unfitted */\n",
       "  background-color: var(--sklearn-color-unfitted-level-2);\n",
       "}\n",
       "\n",
       "#sk-container-id-1 div.sk-estimator.fitted input.sk-toggleable__control:checked~label.sk-toggleable__label {\n",
       "  /* fitted */\n",
       "  background-color: var(--sklearn-color-fitted-level-2);\n",
       "}\n",
       "\n",
       "#sk-container-id-1 div.sk-label label.sk-toggleable__label,\n",
       "#sk-container-id-1 div.sk-label label {\n",
       "  /* The background is the default theme color */\n",
       "  color: var(--sklearn-color-text-on-default-background);\n",
       "}\n",
       "\n",
       "/* On hover, darken the color of the background */\n",
       "#sk-container-id-1 div.sk-label:hover label.sk-toggleable__label {\n",
       "  color: var(--sklearn-color-text);\n",
       "  background-color: var(--sklearn-color-unfitted-level-2);\n",
       "}\n",
       "\n",
       "/* Label box, darken color on hover, fitted */\n",
       "#sk-container-id-1 div.sk-label.fitted:hover label.sk-toggleable__label.fitted {\n",
       "  color: var(--sklearn-color-text);\n",
       "  background-color: var(--sklearn-color-fitted-level-2);\n",
       "}\n",
       "\n",
       "/* Estimator label */\n",
       "\n",
       "#sk-container-id-1 div.sk-label label {\n",
       "  font-family: monospace;\n",
       "  font-weight: bold;\n",
       "  display: inline-block;\n",
       "  line-height: 1.2em;\n",
       "}\n",
       "\n",
       "#sk-container-id-1 div.sk-label-container {\n",
       "  text-align: center;\n",
       "}\n",
       "\n",
       "/* Estimator-specific */\n",
       "#sk-container-id-1 div.sk-estimator {\n",
       "  font-family: monospace;\n",
       "  border: 1px dotted var(--sklearn-color-border-box);\n",
       "  border-radius: 0.25em;\n",
       "  box-sizing: border-box;\n",
       "  margin-bottom: 0.5em;\n",
       "  /* unfitted */\n",
       "  background-color: var(--sklearn-color-unfitted-level-0);\n",
       "}\n",
       "\n",
       "#sk-container-id-1 div.sk-estimator.fitted {\n",
       "  /* fitted */\n",
       "  background-color: var(--sklearn-color-fitted-level-0);\n",
       "}\n",
       "\n",
       "/* on hover */\n",
       "#sk-container-id-1 div.sk-estimator:hover {\n",
       "  /* unfitted */\n",
       "  background-color: var(--sklearn-color-unfitted-level-2);\n",
       "}\n",
       "\n",
       "#sk-container-id-1 div.sk-estimator.fitted:hover {\n",
       "  /* fitted */\n",
       "  background-color: var(--sklearn-color-fitted-level-2);\n",
       "}\n",
       "\n",
       "/* Specification for estimator info (e.g. \"i\" and \"?\") */\n",
       "\n",
       "/* Common style for \"i\" and \"?\" */\n",
       "\n",
       ".sk-estimator-doc-link,\n",
       "a:link.sk-estimator-doc-link,\n",
       "a:visited.sk-estimator-doc-link {\n",
       "  float: right;\n",
       "  font-size: smaller;\n",
       "  line-height: 1em;\n",
       "  font-family: monospace;\n",
       "  background-color: var(--sklearn-color-background);\n",
       "  border-radius: 1em;\n",
       "  height: 1em;\n",
       "  width: 1em;\n",
       "  text-decoration: none !important;\n",
       "  margin-left: 1ex;\n",
       "  /* unfitted */\n",
       "  border: var(--sklearn-color-unfitted-level-1) 1pt solid;\n",
       "  color: var(--sklearn-color-unfitted-level-1);\n",
       "}\n",
       "\n",
       ".sk-estimator-doc-link.fitted,\n",
       "a:link.sk-estimator-doc-link.fitted,\n",
       "a:visited.sk-estimator-doc-link.fitted {\n",
       "  /* fitted */\n",
       "  border: var(--sklearn-color-fitted-level-1) 1pt solid;\n",
       "  color: var(--sklearn-color-fitted-level-1);\n",
       "}\n",
       "\n",
       "/* On hover */\n",
       "div.sk-estimator:hover .sk-estimator-doc-link:hover,\n",
       ".sk-estimator-doc-link:hover,\n",
       "div.sk-label-container:hover .sk-estimator-doc-link:hover,\n",
       ".sk-estimator-doc-link:hover {\n",
       "  /* unfitted */\n",
       "  background-color: var(--sklearn-color-unfitted-level-3);\n",
       "  color: var(--sklearn-color-background);\n",
       "  text-decoration: none;\n",
       "}\n",
       "\n",
       "div.sk-estimator.fitted:hover .sk-estimator-doc-link.fitted:hover,\n",
       ".sk-estimator-doc-link.fitted:hover,\n",
       "div.sk-label-container:hover .sk-estimator-doc-link.fitted:hover,\n",
       ".sk-estimator-doc-link.fitted:hover {\n",
       "  /* fitted */\n",
       "  background-color: var(--sklearn-color-fitted-level-3);\n",
       "  color: var(--sklearn-color-background);\n",
       "  text-decoration: none;\n",
       "}\n",
       "\n",
       "/* Span, style for the box shown on hovering the info icon */\n",
       ".sk-estimator-doc-link span {\n",
       "  display: none;\n",
       "  z-index: 9999;\n",
       "  position: relative;\n",
       "  font-weight: normal;\n",
       "  right: .2ex;\n",
       "  padding: .5ex;\n",
       "  margin: .5ex;\n",
       "  width: min-content;\n",
       "  min-width: 20ex;\n",
       "  max-width: 50ex;\n",
       "  color: var(--sklearn-color-text);\n",
       "  box-shadow: 2pt 2pt 4pt #999;\n",
       "  /* unfitted */\n",
       "  background: var(--sklearn-color-unfitted-level-0);\n",
       "  border: .5pt solid var(--sklearn-color-unfitted-level-3);\n",
       "}\n",
       "\n",
       ".sk-estimator-doc-link.fitted span {\n",
       "  /* fitted */\n",
       "  background: var(--sklearn-color-fitted-level-0);\n",
       "  border: var(--sklearn-color-fitted-level-3);\n",
       "}\n",
       "\n",
       ".sk-estimator-doc-link:hover span {\n",
       "  display: block;\n",
       "}\n",
       "\n",
       "/* \"?\"-specific style due to the `<a>` HTML tag */\n",
       "\n",
       "#sk-container-id-1 a.estimator_doc_link {\n",
       "  float: right;\n",
       "  font-size: 1rem;\n",
       "  line-height: 1em;\n",
       "  font-family: monospace;\n",
       "  background-color: var(--sklearn-color-background);\n",
       "  border-radius: 1rem;\n",
       "  height: 1rem;\n",
       "  width: 1rem;\n",
       "  text-decoration: none;\n",
       "  /* unfitted */\n",
       "  color: var(--sklearn-color-unfitted-level-1);\n",
       "  border: var(--sklearn-color-unfitted-level-1) 1pt solid;\n",
       "}\n",
       "\n",
       "#sk-container-id-1 a.estimator_doc_link.fitted {\n",
       "  /* fitted */\n",
       "  border: var(--sklearn-color-fitted-level-1) 1pt solid;\n",
       "  color: var(--sklearn-color-fitted-level-1);\n",
       "}\n",
       "\n",
       "/* On hover */\n",
       "#sk-container-id-1 a.estimator_doc_link:hover {\n",
       "  /* unfitted */\n",
       "  background-color: var(--sklearn-color-unfitted-level-3);\n",
       "  color: var(--sklearn-color-background);\n",
       "  text-decoration: none;\n",
       "}\n",
       "\n",
       "#sk-container-id-1 a.estimator_doc_link.fitted:hover {\n",
       "  /* fitted */\n",
       "  background-color: var(--sklearn-color-fitted-level-3);\n",
       "}\n",
       "</style><div id=\"sk-container-id-1\" class=\"sk-top-container\"><div class=\"sk-text-repr-fallback\"><pre>LinearRegression()</pre><b>In a Jupyter environment, please rerun this cell to show the HTML representation or trust the notebook. <br />On GitHub, the HTML representation is unable to render, please try loading this page with nbviewer.org.</b></div><div class=\"sk-container\" hidden><div class=\"sk-item\"><div class=\"sk-estimator fitted sk-toggleable\"><input class=\"sk-toggleable__control sk-hidden--visually\" id=\"sk-estimator-id-1\" type=\"checkbox\" checked><label for=\"sk-estimator-id-1\" class=\"sk-toggleable__label fitted sk-toggleable__label-arrow fitted\">&nbsp;&nbsp;LinearRegression<a class=\"sk-estimator-doc-link fitted\" rel=\"noreferrer\" target=\"_blank\" href=\"https://scikit-learn.org/1.5/modules/generated/sklearn.linear_model.LinearRegression.html\">?<span>Documentation for LinearRegression</span></a><span class=\"sk-estimator-doc-link fitted\">i<span>Fitted</span></span></label><div class=\"sk-toggleable__content fitted\"><pre>LinearRegression()</pre></div> </div></div></div></div>"
      ],
      "text/plain": [
       "LinearRegression()"
      ]
     },
     "execution_count": 28,
     "metadata": {},
     "output_type": "execute_result"
    }
   ],
   "source": [
    "\n",
    "## create an object of the LinearRegression() class\n",
    "lmm=LinearRegression()\n",
    "## define the predictor variables and the target variables\n",
    "\n",
    "horsepower_mean = df['horsepower'].mean()\n",
    "\n",
    "# Replace NaN values in 'horsepower' with the calculated mean\n",
    "df['horsepower'] = df['horsepower'].fillna(horsepower_mean)\n",
    "Z= df[['horsepower',\"curb-weight\",\"engine-size\",\"highway-mpg\"]]\n",
    "## train the model using the fit method\n",
    "lmm.fit(Z,df[\"price\"])\n",
    "## obtain a predictio using the method predict\n",
    "##prediction_lmm=lmm.predict(np.array[[]]) should be the same number of rows\n"
   ]
  },
  {
   "cell_type": "code",
   "execution_count": 29,
   "metadata": {},
   "outputs": [
    {
     "name": "stdout",
     "output_type": "stream",
     "text": [
      "the intercept value is  -15824.03820823448\n",
      "the slope value is  [53.61042729  4.70886444 81.47225667 36.39637823]\n"
     ]
    }
   ],
   "source": [
    "print(\"the intercept value is \", lmm.intercept_)\n",
    "print(\"the slope value is \",lmm.coef_)"
   ]
  },
  {
   "cell_type": "markdown",
   "metadata": {},
   "source": [
    "which means that the model equation is <code>Y= intercept + slope1*X<sub>1</sub> + slope2* X<sub>2</sub></code>\n",
    "<ul><li>Y=15824+15824X<sub>1</sub>+4.70X<sub>2</sub>....​\n",
    "</li></ul>"
   ]
  },
  {
   "cell_type": "markdown",
   "metadata": {},
   "source": [
    "<h3 style=\"color:green\">Model Evaluating using visualization</h3>"
   ]
  },
  {
   "cell_type": "markdown",
   "metadata": {},
   "source": [
    "<h5 style=\"color:blue;\">Regression Plot</h5>"
   ]
  },
  {
   "cell_type": "code",
   "execution_count": 30,
   "metadata": {},
   "outputs": [
    {
     "data": {
      "text/plain": [
       "(0.0, 48179.724467810185)"
      ]
     },
     "execution_count": 30,
     "metadata": {},
     "output_type": "execute_result"
    },
    {
     "data": {
      "image/png": "[encoded data removed]",
      "text/plain": [
       "<Figure size 640x480 with 1 Axes>"
      ]
     },
     "metadata": {},
     "output_type": "display_data"
    }
   ],
   "source": [
    "ax4=sns.regplot(x=\"highway-mpg\",y=\"price\",data=df)\n",
    "plots.append(ax4)\n",
    "plt.ylim(0,)"
   ]
  },
  {
   "cell_type": "markdown",
   "metadata": {},
   "source": [
    "<h5 style=\"color:blue;\">Residual Plot</h5>"
   ]
  },
  {
   "cell_type": "code",
   "execution_count": 31,
   "metadata": {},
   "outputs": [
    {
     "data": {
      "image/png": "[encoded data removed]",
      "text/plain": [
       "<Figure size 640x480 with 1 Axes>"
      ]
     },
     "metadata": {},
     "output_type": "display_data"
    }
   ],
   "source": [
    "ax5=sns.residplot(x=\"highway-mpg\",y=\"price\",data=df)\n",
    "plots.append(ax5)"
   ]
  },
  {
   "cell_type": "markdown",
   "metadata": {},
   "source": [
    "<h5 style=\"color:blue;\">Distribution Plot</h5>"
   ]
  },
  {
   "cell_type": "code",
   "execution_count": 32,
   "metadata": {},
   "outputs": [
    {
     "data": {
      "image/png": "[encoded data removed]",
      "text/plain": [
       "<Figure size 640x480 with 1 Axes>"
      ]
     },
     "metadata": {},
     "output_type": "display_data"
    }
   ],
   "source": [
    "fig6, ax6= plt.subplots()\n",
    "## display and kde plot for actual values\n",
    "sns.kdeplot(x=\"price\",data=df,color='red',label=\"Actual Values\",ax=ax6)\n",
    "## display and kde plot for the fitted values\n",
    "sns.kdeplot(prediction,color='blue',label=\"Fitted Values\",ax=ax6)\n",
    "ax6.legend()\n",
    "ax6.set_title('Actual VS Fitted Values')\n",
    "plots.append(ax6)\n"
   ]
  },
  {
   "cell_type": "markdown",
   "metadata": {},
   "source": [
    "<h3 style=\"color:blue;\">Polynomial regression and pipelines</h3>"
   ]
  },
  {
   "cell_type": "markdown",
   "metadata": {},
   "source": [
    "Polynomial Regression"
   ]
  },
  {
   "cell_type": "code",
   "execution_count": 33,
   "metadata": {},
   "outputs": [],
   "source": [
    "\"\"\"\n",
    "StandardScaler is used to standardize the input data in a \n",
    "way that ensures that the data points have a balanced scale,\n",
    "which is crucial for machine learning algorithms, \n",
    "especially those that are sensitive to differences in feature scales.\n",
    "\"\"\"\n",
    "SCALE=StandardScaler()\n",
    "## Computes the mean and standard deviation of the input data for each feature \n",
    "SCALE.fit([df[\"horsepower\"],df[\"highway-mpg\"]])\n",
    "## Transforms the input data using the mean and standard deviation calculated in the fit step\n",
    "x_scale=SCALE.transform([df[\"horsepower\"],df[\"highway-mpg\"]])\n",
    "## x_scale will contain the standardized values for both horsepower and highway-mpg.\n"
   ]
  },
  {
   "cell_type": "markdown",
   "metadata": {},
   "source": [
    "Pipelines"
   ]
  },
  {
   "cell_type": "code",
   "execution_count": 34,
   "metadata": {},
   "outputs": [],
   "source": [
    "## create a list of tuples:\n",
    "## 1st element contains the name of the estimator\n",
    "## 2nd element contains model constructor\n",
    "Input=[('scale',StandardScaler()),\n",
    "       ('polynomial',PolynomialFeatures(degree=2)),\n",
    "       ('mode',LinearRegression())\n",
    "       ]\n",
    "## create the pipeline object\n",
    "pipe=Pipeline(Input)\n",
    "Ypipe=df[\"price\"]\n",
    "Xpipe=df[[\"horsepower\",\"curb-weight\",\"engine-size\",\"highway-mpg\"]]\n",
    "pipe.fit(Xpipe,Ypipe)\n",
    "\n",
    "ythat=pipe.predict(Xpipe)"
   ]
  },
  {
   "cell_type": "code",
   "execution_count": 35,
   "metadata": {},
   "outputs": [
    {
     "data": {
      "image/png": "[encoded data removed]",
      "text/plain": [
       "<Figure size 640x480 with 1 Axes>"
      ]
     },
     "metadata": {},
     "output_type": "display_data"
    }
   ],
   "source": [
    "fig7, ax7 =plt.subplots()\n",
    "\n",
    "ax7.plot(Ypipe.values,label=\"Actual Values\",color=\"blue\",linestyle=\"-\")\n",
    "ax7.plot(ythat,label=\"Predicted values\",color=\"red\",linestyle=\"--\")\n",
    "ax7.legend()\n",
    "ax7.set_title(\"Actual vs predicted values using piplines\")\n",
    "plots.append(ax7)"
   ]
  },
  {
   "cell_type": "markdown",
   "metadata": {},
   "source": [
    "<h2 style=\"color:green;\">Measures for simple evaluation:</h2>"
   ]
  },
  {
   "cell_type": "markdown",
   "metadata": {},
   "source": [
    "using mse function"
   ]
  },
  {
   "cell_type": "code",
   "execution_count": 36,
   "metadata": {},
   "outputs": [
    {
     "name": "stdout",
     "output_type": "stream",
     "text": [
      "MSE of simple linear regression 31635042.944639895\n",
      "MSE pipline 9655770.595172966\n"
     ]
    }
   ],
   "source": [
    "print(\"MSE of simple linear regression\",mean_squared_error(df[\"price\"],prediction))\n",
    "print(\"MSE pipline\",mean_squared_error(df[\"price\"],ythat))"
   ]
  },
  {
   "cell_type": "markdown",
   "metadata": {},
   "source": [
    "using the score function, the closer the value to 1 the better"
   ]
  },
  {
   "cell_type": "code",
   "execution_count": 37,
   "metadata": {},
   "outputs": [
    {
     "name": "stdout",
     "output_type": "stream",
     "text": [
      "The r^2 value of Simple linear regression is  0.4965911884339175\n",
      "The r^2 value of the Multi linear regression is  0.8094130135602673\n"
     ]
    }
   ],
   "source": [
    "print(\"The r^2 value of Simple linear regression is \", lm.score(X,Y))\n",
    "print(\"The r^2 value of the Multi linear regression is \", lmm.score(Z,Y))"
   ]
  },
  {
   "cell_type": "markdown",
   "metadata": {},
   "source": [
    "<h2 style=\"color:green\">Prediction and Decision Making\n",
    "</h2>"
   ]
  },
  {
   "cell_type": "code",
   "execution_count": 38,
   "metadata": {},
   "outputs": [
    {
     "name": "stderr",
     "output_type": "stream",
     "text": [
      "c:\\ProgramData\\Anaconda\\Lib\\site-packages\\sklearn\\base.py:493: UserWarning: X does not have valid feature names, but LinearRegression was fitted with feature names\n",
      "  warnings.warn(\n"
     ]
    },
    {
     "data": {
      "text/plain": [
       "array([[ 37601.57247984],\n",
       "       [ 36779.83910151],\n",
       "       [ 35958.10572319],\n",
       "       [ 35136.37234487],\n",
       "       [ 34314.63896655],\n",
       "       [ 33492.90558823],\n",
       "       [ 32671.1722099 ],\n",
       "       [ 31849.43883158],\n",
       "       [ 31027.70545326],\n",
       "       [ 30205.97207494],\n",
       "       [ 29384.23869662],\n",
       "       [ 28562.50531829],\n",
       "       [ 27740.77193997],\n",
       "       [ 26919.03856165],\n",
       "       [ 26097.30518333],\n",
       "       [ 25275.57180501],\n",
       "       [ 24453.83842668],\n",
       "       [ 23632.10504836],\n",
       "       [ 22810.37167004],\n",
       "       [ 21988.63829172],\n",
       "       [ 21166.9049134 ],\n",
       "       [ 20345.17153508],\n",
       "       [ 19523.43815675],\n",
       "       [ 18701.70477843],\n",
       "       [ 17879.97140011],\n",
       "       [ 17058.23802179],\n",
       "       [ 16236.50464347],\n",
       "       [ 15414.77126514],\n",
       "       [ 14593.03788682],\n",
       "       [ 13771.3045085 ],\n",
       "       [ 12949.57113018],\n",
       "       [ 12127.83775186],\n",
       "       [ 11306.10437353],\n",
       "       [ 10484.37099521],\n",
       "       [  9662.63761689],\n",
       "       [  8840.90423857],\n",
       "       [  8019.17086025],\n",
       "       [  7197.43748192],\n",
       "       [  6375.7041036 ],\n",
       "       [  5553.97072528],\n",
       "       [  4732.23734696],\n",
       "       [  3910.50396864],\n",
       "       [  3088.77059031],\n",
       "       [  2267.03721199],\n",
       "       [  1445.30383367],\n",
       "       [   623.57045535],\n",
       "       [  -198.16292297],\n",
       "       [ -1019.8963013 ],\n",
       "       [ -1841.62967962],\n",
       "       [ -2663.36305794],\n",
       "       [ -3485.09643626],\n",
       "       [ -4306.82981458],\n",
       "       [ -5128.5631929 ],\n",
       "       [ -5950.29657123],\n",
       "       [ -6772.02994955],\n",
       "       [ -7593.76332787],\n",
       "       [ -8415.49670619],\n",
       "       [ -9237.23008451],\n",
       "       [-10058.96346284],\n",
       "       [-10880.69684116],\n",
       "       [-11702.43021948],\n",
       "       [-12524.1635978 ],\n",
       "       [-13345.89697612],\n",
       "       [-14167.63035445],\n",
       "       [-14989.36373277],\n",
       "       [-15811.09711109],\n",
       "       [-16632.83048941],\n",
       "       [-17454.56386773],\n",
       "       [-18276.29724606],\n",
       "       [-19098.03062438],\n",
       "       [-19919.7640027 ],\n",
       "       [-20741.49738102],\n",
       "       [-21563.23075934],\n",
       "       [-22384.96413767],\n",
       "       [-23206.69751599],\n",
       "       [-24028.43089431],\n",
       "       [-24850.16427263],\n",
       "       [-25671.89765095],\n",
       "       [-26493.63102927],\n",
       "       [-27315.3644076 ],\n",
       "       [-28137.09778592],\n",
       "       [-28958.83116424],\n",
       "       [-29780.56454256],\n",
       "       [-30602.29792088],\n",
       "       [-31424.03129921],\n",
       "       [-32245.76467753],\n",
       "       [-33067.49805585],\n",
       "       [-33889.23143417],\n",
       "       [-34710.96481249],\n",
       "       [-35532.69819082],\n",
       "       [-36354.43156914],\n",
       "       [-37176.16494746],\n",
       "       [-37997.89832578],\n",
       "       [-38819.6317041 ],\n",
       "       [-39641.36508243],\n",
       "       [-40463.09846075],\n",
       "       [-41284.83183907],\n",
       "       [-42106.56521739],\n",
       "       [-42928.29859571],\n",
       "       [-43750.03197404]])"
      ]
     },
     "execution_count": 38,
     "metadata": {},
     "output_type": "execute_result"
    }
   ],
   "source": [
    "new_input=np.arange(1,101,1).reshape(-1,1)\n",
    "ythat_prediction_making=lm.predict(new_input)\n",
    "ythat_prediction_making"
   ]
  },
  {
   "cell_type": "markdown",
   "metadata": {},
   "source": [
    "many values are negative"
   ]
  },
  {
   "cell_type": "markdown",
   "metadata": {},
   "source": [
    "<h2 style=\"color:green;\">Model Evaluation and Refinement</h2>"
   ]
  },
  {
   "cell_type": "code",
   "execution_count": null,
   "metadata": {},
   "outputs": [
    {
     "data": {
      "text/plain": [
       "wheel-base           195\n",
       "stroke               195\n",
       "horsepower           195\n",
       "compression-ratio    195\n",
       "peak-rpm             195\n",
       "city-L/100Km         195\n",
       "dtype: int64"
      ]
     },
     "execution_count": 88,
     "metadata": {},
     "output_type": "execute_result"
    }
   ],
   "source": [
    "x_data=df[[\"wheel-base\",\"stroke\",\"horsepower\",\"compression-ratio\",\"peak-rpm\",\"city-L/100Km\"]]\n",
    "y_data=df[\"price\"]\n",
    "## clean data\n",
    "x_data=x_data.dropna()## drop none values \n",
    "y_data=y_data.dropna()\n",
    "y_data=y_data[x_data.index] ## have the same rows for y_data\n",
    "x_data.notnull().sum()"
   ]
  },
  {
   "cell_type": "code",
   "execution_count": 89,
   "metadata": {},
   "outputs": [
    {
     "data": {
      "text/plain": [
       "0.872504781774446"
      ]
     },
     "execution_count": 89,
     "metadata": {},
     "output_type": "execute_result"
    }
   ],
   "source": [
    "\n",
    "x_train,x_test,y_train,y_test=train_test_split(x_data,y_data,test_size=0.3,random_state=0)\n",
    "Input2=[('scale',StandardScaler()),\n",
    "       ('polynomial',PolynomialFeatures(degree=2)),\n",
    "       ('mode',LinearRegression())\n",
    "       ]\n",
    "## create the pipeline object\n",
    "pipe2=Pipeline(Input2)\n",
    "\n",
    "pipe2.fit(x_train,y_train).score(x_test,y_test)\n"
   ]
  },
  {
   "cell_type": "markdown",
   "metadata": {},
   "source": [
    "the score value is close to 1 which means that the pipe2 performs well"
   ]
  },
  {
   "cell_type": "markdown",
   "metadata": {},
   "source": [
    "to evaluate our model we use <code>cross_val_score()</code>"
   ]
  },
  {
   "cell_type": "code",
   "execution_count": 91,
   "metadata": {},
   "outputs": [
    {
     "data": {
      "text/plain": [
       "array([ 0.42076925,  0.57034689, -0.88832759])"
      ]
     },
     "execution_count": 91,
     "metadata": {},
     "output_type": "execute_result"
    }
   ],
   "source": [
    "score=cross_val_score(pipe2,x_data,y_data,cv=3)\n",
    "score"
   ]
  },
  {
   "cell_type": "markdown",
   "metadata": {},
   "source": [
    "The cross-validation scores indicate varying model performance: fold 1 (42%), fold 2 (57%), and fold 3 (-88%). The negative score suggests poor generalization or data handling issues in specific subsets."
   ]
  },
  {
   "cell_type": "markdown",
   "metadata": {},
   "source": [
    "<h2 style=\"color:green;\">Overfitting, Underfitting and Model Selection</h2>"
   ]
  },
  {
   "cell_type": "code",
   "execution_count": 113,
   "metadata": {},
   "outputs": [
    {
     "data": {
      "image/png": "[encoded data removed]",
      "text/plain": [
       "<Figure size 640x480 with 1 Axes>"
      ]
     },
     "metadata": {},
     "output_type": "display_data"
    }
   ],
   "source": [
    "# Initialize an empty list to store R² scores for the test set\n",
    "Rsqu_test=[]\n",
    "# Define the polynomial degrees to iterate over\n",
    "order = [1,2,3,4]\n",
    "fig8, ax8= plt.subplots()\n",
    "colors = ['red', 'green', 'orange', 'purple']\n",
    "for i,n in enumerate(order):\n",
    "    # Create a PolynomialFeatures object for the current degree\n",
    "    \n",
    "    pr=PolynomialFeatures(degree=n)\n",
    "    # Transform the training and testing data for the 'horsepower' feature\n",
    "    \n",
    "    x_train_pr=pr.fit_transform(x_train[[\"horsepower\"]])\n",
    "    \n",
    "    x_test_pr=pr.fit_transform(x_test[[\"horsepower\"]])\n",
    "    pipe2.fit(x_train_pr,y_train)\n",
    "    \n",
    "    Rsqu_test.append(pipe2.score(x_test_pr,y_test))\n",
    "    \n",
    "    # Generate predictions for the training data\n",
    "    y_train_pred = pipe2.predict(x_train_pr)\n",
    "    \n",
    "     # Plot the actual data (only once, in blue)\n",
    "    if i == 0:\n",
    "        ax8.scatter(x_train[\"horsepower\"], y_train, color=\"blue\", label=\"Actual Data\", alpha=0.6)\n",
    "    \n",
    "    # Plot the polynomial fit for the current degree\n",
    "    ax8.scatter(\n",
    "        x_train[\"horsepower\"],\n",
    "        y_train_pred,\n",
    "        color=colors[i],\n",
    "        label=f\"Predicted Data (Degree {n})\",\n",
    "        alpha=0.8\n",
    "    )\n",
    "    \n",
    "    ax8.set_title(f'Polynomial Degree {n}')\n",
    "    ax8.set_xlabel('Horsepower')\n",
    "    ax8.set_ylabel('Price')\n",
    "    ax8.legend()\n",
    "    ax8.grid(True)\n",
    "    \n",
    "plots.append(ax8)\n"
   ]
  }
 ],
 "metadata": {
  "kernelspec": {
   "display_name": "base",
   "language": "python",
   "name": "python3"
  },
  "language_info": {
   "codemirror_mode": {
    "name": "ipython",
    "version": 3
   },
   "file_extension": ".py",
   "mimetype": "text/x-python",
   "name": "python",
   "nbconvert_exporter": "python",
   "pygments_lexer": "ipython3",
   "version": "3.12.7"
  }
 },
 "nbformat": 4,
 "nbformat_minor": 2
}
