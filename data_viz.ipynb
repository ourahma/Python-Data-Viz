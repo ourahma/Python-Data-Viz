{
 "cells": [
  {
   "cell_type": "code",
   "execution_count": 2,
   "metadata": {},
   "outputs": [],
   "source": [
    "import pandas as pd\n",
    "import numpy as np\n",
    "import matplotlib.pyplot as plt\n",
    "from matplotlib import pyplot\n",
    "from scipy import stats\n",
    "import seaborn as sns"
   ]
  },
  {
   "cell_type": "code",
   "execution_count": 3,
   "metadata": {},
   "outputs": [],
   "source": [
    "url=\"https://archive.ics.uci.edu/ml/machine-learning-databases/autos/imports-85.data\"\n",
    "headers = [\"symboling\",\"normalized-losses\",\"make\",\"fuel-type\",\"aspiration\", \"num-of-doors\",\"body-style\",\n",
    "\"drive-wheels\",\"engine-location\",\"wheel-base\", \"length\",\"width\",\"height\",\"curb-weight\",\"engine-type\",\n",
    "\"num-of-cylinders\", \"engine-size\",\"fuel-system\",\"bore\",\"stroke\",\"compression-ratio\",\"horsepower\", \"peak-rpm\",\"city-mpg\",\"highway-mpg\",\"price\"]\n",
    "df= pd.read_csv(url,header=None)\n",
    "df.columns=headers"
   ]
  },
  {
   "cell_type": "code",
   "execution_count": 4,
   "metadata": {},
   "outputs": [
    {
     "name": "stdout",
     "output_type": "stream",
     "text": [
      "   symboling normalized-losses         make fuel-type aspiration num-of-doors  \\\n",
      "0          3                 ?  alfa-romero       gas        std          two   \n",
      "1          3                 ?  alfa-romero       gas        std          two   \n",
      "2          1                 ?  alfa-romero       gas        std          two   \n",
      "3          2               164         audi       gas        std         four   \n",
      "4          2               164         audi       gas        std         four   \n",
      "\n",
      "    body-style drive-wheels engine-location  wheel-base  ...  engine-size  \\\n",
      "0  convertible          rwd           front        88.6  ...          130   \n",
      "1  convertible          rwd           front        88.6  ...          130   \n",
      "2    hatchback          rwd           front        94.5  ...          152   \n",
      "3        sedan          fwd           front        99.8  ...          109   \n",
      "4        sedan          4wd           front        99.4  ...          136   \n",
      "\n",
      "   fuel-system  bore  stroke compression-ratio horsepower  peak-rpm city-mpg  \\\n",
      "0         mpfi  3.47    2.68               9.0        111      5000       21   \n",
      "1         mpfi  3.47    2.68               9.0        111      5000       21   \n",
      "2         mpfi  2.68    3.47               9.0        154      5000       19   \n",
      "3         mpfi  3.19    3.40              10.0        102      5500       24   \n",
      "4         mpfi  3.19    3.40               8.0        115      5500       18   \n",
      "\n",
      "  highway-mpg  price  \n",
      "0          27  13495  \n",
      "1          27  16500  \n",
      "2          26  16500  \n",
      "3          30  13950  \n",
      "4          22  17450  \n",
      "\n",
      "[5 rows x 26 columns]\n"
     ]
    }
   ],
   "source": [
    "print(df.head(3))"
   ]
  },
  {
   "cell_type": "code",
   "execution_count": 5,
   "metadata": {},
   "outputs": [
    {
     "name": "stdout",
     "output_type": "stream",
     "text": [
      "   symboling normalized-losses         make fuel-type aspiration num-of-doors  \\\n",
      "0          3                 ?  alfa-romero       gas        std          two   \n",
      "1          3                 ?  alfa-romero       gas        std          two   \n",
      "2          1                 ?  alfa-romero       gas        std          two   \n",
      "3          2               164         audi       gas        std         four   \n",
      "4          2               164         audi       gas        std         four   \n",
      "\n",
      "    body-style drive-wheels engine-location  wheel-base  ...  engine-size  \\\n",
      "0  convertible          rwd           front        88.6  ...          130   \n",
      "1  convertible          rwd           front        88.6  ...          130   \n",
      "2    hatchback          rwd           front        94.5  ...          152   \n",
      "3        sedan          fwd           front        99.8  ...          109   \n",
      "4        sedan          4wd           front        99.4  ...          136   \n",
      "\n",
      "   fuel-system  bore  stroke compression-ratio horsepower  peak-rpm  \\\n",
      "0         mpfi  3.47    2.68               9.0        111      5000   \n",
      "1         mpfi  3.47    2.68               9.0        111      5000   \n",
      "2         mpfi  2.68    3.47               9.0        154      5000   \n",
      "3         mpfi  3.19    3.40              10.0        102      5500   \n",
      "4         mpfi  3.19    3.40               8.0        115      5500   \n",
      "\n",
      "  city-L/100Km highway-mpg  price  \n",
      "0    11.190476          27  13495  \n",
      "1    11.190476          27  16500  \n",
      "2    12.368421          26  16500  \n",
      "3     9.791667          30  13950  \n",
      "4    13.055556          22  17450  \n",
      "\n",
      "[5 rows x 26 columns]\n"
     ]
    }
   ],
   "source": [
    "#replace with the mean value \n",
    "df[\"city-mpg\"]=235/df[\"city-mpg\"]\n",
    "## rename the columns after formatting\n",
    "df.rename(columns={\"city-mpg\":\"city-L/100Km\"},inplace=True)\n",
    "### converting price from object to int and elemenate non nemric values\n",
    "df[\"price\"]=df[\"price\"].str.replace(\"?\",\"0\").astype(int)\n",
    "print(df.head(5))"
   ]
  },
  {
   "cell_type": "code",
   "execution_count": 6,
   "metadata": {},
   "outputs": [
    {
     "name": "stdout",
     "output_type": "stream",
     "text": [
      "0      0.811148\n",
      "1      0.811148\n",
      "2      0.822681\n",
      "3      0.848630\n",
      "4      0.848630\n",
      "         ...   \n",
      "200    0.907256\n",
      "201    0.907256\n",
      "202    0.907256\n",
      "203    0.907256\n",
      "204    0.907256\n",
      "Name: length, Length: 205, dtype: float64\n"
     ]
    }
   ],
   "source": [
    "##### normalizing the length\n",
    "df[\"length\"]=df[\"length\"]/df[\"length\"].max()\n",
    "print(df[\"length\"])"
   ]
  },
  {
   "cell_type": "code",
   "execution_count": 12,
   "metadata": {},
   "outputs": [
    {
     "name": "stdout",
     "output_type": "stream",
     "text": [
      "   symboling normalized-losses         make fuel-type aspiration num-of-doors  \\\n",
      "0          3                 ?  alfa-romero       gas        std          two   \n",
      "1          3                 ?  alfa-romero       gas        std          two   \n",
      "\n",
      "    body-style drive-wheels engine-location  wheel-base  ...  fuel-system  \\\n",
      "0  convertible          rwd           front        88.6  ...         mpfi   \n",
      "1  convertible          rwd           front        88.6  ...         mpfi   \n",
      "\n",
      "   bore  stroke  compression-ratio horsepower peak-rpm  city-L/100Km  \\\n",
      "0  3.47    2.68                9.0        111     5000     11.190476   \n",
      "1  3.47    2.68                9.0        111     5000     11.190476   \n",
      "\n",
      "  highway-mpg  price price-binned  \n",
      "0          27  13495          Low  \n",
      "1          27  16500       Medium  \n",
      "\n",
      "[2 rows x 27 columns]\n",
      "0      13495\n",
      "1      16500\n",
      "2      16500\n",
      "3      13950\n",
      "4      17450\n",
      "       ...  \n",
      "200    16845\n",
      "201    19045\n",
      "202    21485\n",
      "203    22470\n",
      "204    22625\n",
      "Name: price, Length: 205, dtype: int64 0         Low\n",
      "1      Medium\n",
      "2      Medium\n",
      "3         Low\n",
      "4      Medium\n",
      "        ...  \n",
      "200    Medium\n",
      "201    Medium\n",
      "202    Medium\n",
      "203    Medium\n",
      "204    Medium\n",
      "Name: price-binned, Length: 205, dtype: category\n",
      "Categories (3, object): ['Low' < 'Medium' < 'High']\n"
     ]
    }
   ],
   "source": [
    "### creating bins:\n",
    "print(df.head(2))\n",
    "bins = np.linspace(min(df['price']),max(df['price']),4)\n",
    "group_names=[\"Low\", \"Medium\",\"High\"]\n",
    "df[\"price-binned\"]=pd.cut(df['price'],bins,labels=group_names,include_lowest=True)\n",
    "print(df[\"price\"],df[\"price-binned\"])"
   ]
  },
  {
   "cell_type": "code",
   "execution_count": 8,
   "metadata": {},
   "outputs": [
    {
     "data": {
      "text/plain": [
       "Text(0.5, 1.0, 'price binned')"
      ]
     },
     "execution_count": 8,
     "metadata": {},
     "output_type": "execute_result"
    },
    {
     "data": {
      "image/png": "[encoded data removed]",
      "text/plain": [
       "<Figure size 640x480 with 1 Axes>"
      ]
     },
     "metadata": {},
     "output_type": "display_data"
    }
   ],
   "source": [
    "# pd.get_dummies(df['fuel'])\n",
    "pyplot.hist(df[\"price-binned\"])\n",
    "pyplot.xlabel(\"Price\")\n",
    "pyplot.ylabel(\"count\")\n",
    "pyplot.title(\"price binned\")"
   ]
  },
  {
   "cell_type": "code",
   "execution_count": 9,
   "metadata": {},
   "outputs": [
    {
     "data": {
      "text/html": [
       "<div>\n",
       "<style scoped>\n",
       "    .dataframe tbody tr th:only-of-type {\n",
       "        vertical-align: middle;\n",
       "    }\n",
       "\n",
       "    .dataframe tbody tr th {\n",
       "        vertical-align: top;\n",
       "    }\n",
       "\n",
       "    .dataframe thead th {\n",
       "        text-align: right;\n",
       "    }\n",
       "</style>\n",
       "<table border=\"1\" class=\"dataframe\">\n",
       "  <thead>\n",
       "    <tr style=\"text-align: right;\">\n",
       "      <th></th>\n",
       "      <th>symboling</th>\n",
       "      <th>wheel-base</th>\n",
       "      <th>length</th>\n",
       "      <th>width</th>\n",
       "      <th>height</th>\n",
       "      <th>curb-weight</th>\n",
       "      <th>engine-size</th>\n",
       "      <th>compression-ratio</th>\n",
       "      <th>city-L/100Km</th>\n",
       "      <th>highway-mpg</th>\n",
       "      <th>price</th>\n",
       "    </tr>\n",
       "  </thead>\n",
       "  <tbody>\n",
       "    <tr>\n",
       "      <th>count</th>\n",
       "      <td>205.000000</td>\n",
       "      <td>205.000000</td>\n",
       "      <td>205.000000</td>\n",
       "      <td>205.000000</td>\n",
       "      <td>205.000000</td>\n",
       "      <td>205.000000</td>\n",
       "      <td>205.000000</td>\n",
       "      <td>205.000000</td>\n",
       "      <td>205.000000</td>\n",
       "      <td>205.000000</td>\n",
       "      <td>205.000000</td>\n",
       "    </tr>\n",
       "    <tr>\n",
       "      <th>mean</th>\n",
       "      <td>0.834146</td>\n",
       "      <td>98.756585</td>\n",
       "      <td>0.836373</td>\n",
       "      <td>65.907805</td>\n",
       "      <td>53.724878</td>\n",
       "      <td>2555.565854</td>\n",
       "      <td>126.907317</td>\n",
       "      <td>10.142537</td>\n",
       "      <td>9.949525</td>\n",
       "      <td>30.751220</td>\n",
       "      <td>12949.429268</td>\n",
       "    </tr>\n",
       "    <tr>\n",
       "      <th>std</th>\n",
       "      <td>1.245307</td>\n",
       "      <td>6.021776</td>\n",
       "      <td>0.059285</td>\n",
       "      <td>2.145204</td>\n",
       "      <td>2.443522</td>\n",
       "      <td>520.680204</td>\n",
       "      <td>41.642693</td>\n",
       "      <td>3.972040</td>\n",
       "      <td>2.573104</td>\n",
       "      <td>6.886443</td>\n",
       "      <td>8079.043284</td>\n",
       "    </tr>\n",
       "    <tr>\n",
       "      <th>min</th>\n",
       "      <td>-2.000000</td>\n",
       "      <td>86.600000</td>\n",
       "      <td>0.678039</td>\n",
       "      <td>60.300000</td>\n",
       "      <td>47.800000</td>\n",
       "      <td>1488.000000</td>\n",
       "      <td>61.000000</td>\n",
       "      <td>7.000000</td>\n",
       "      <td>4.795918</td>\n",
       "      <td>16.000000</td>\n",
       "      <td>0.000000</td>\n",
       "    </tr>\n",
       "    <tr>\n",
       "      <th>25%</th>\n",
       "      <td>0.000000</td>\n",
       "      <td>94.500000</td>\n",
       "      <td>0.799135</td>\n",
       "      <td>64.100000</td>\n",
       "      <td>52.000000</td>\n",
       "      <td>2145.000000</td>\n",
       "      <td>97.000000</td>\n",
       "      <td>8.600000</td>\n",
       "      <td>7.833333</td>\n",
       "      <td>25.000000</td>\n",
       "      <td>7689.000000</td>\n",
       "    </tr>\n",
       "    <tr>\n",
       "      <th>50%</th>\n",
       "      <td>1.000000</td>\n",
       "      <td>97.000000</td>\n",
       "      <td>0.832292</td>\n",
       "      <td>65.500000</td>\n",
       "      <td>54.100000</td>\n",
       "      <td>2414.000000</td>\n",
       "      <td>120.000000</td>\n",
       "      <td>9.000000</td>\n",
       "      <td>9.791667</td>\n",
       "      <td>30.000000</td>\n",
       "      <td>10198.000000</td>\n",
       "    </tr>\n",
       "    <tr>\n",
       "      <th>75%</th>\n",
       "      <td>2.000000</td>\n",
       "      <td>102.400000</td>\n",
       "      <td>0.879865</td>\n",
       "      <td>66.900000</td>\n",
       "      <td>55.500000</td>\n",
       "      <td>2935.000000</td>\n",
       "      <td>141.000000</td>\n",
       "      <td>9.400000</td>\n",
       "      <td>12.368421</td>\n",
       "      <td>34.000000</td>\n",
       "      <td>16500.000000</td>\n",
       "    </tr>\n",
       "    <tr>\n",
       "      <th>max</th>\n",
       "      <td>3.000000</td>\n",
       "      <td>120.900000</td>\n",
       "      <td>1.000000</td>\n",
       "      <td>72.300000</td>\n",
       "      <td>59.800000</td>\n",
       "      <td>4066.000000</td>\n",
       "      <td>326.000000</td>\n",
       "      <td>23.000000</td>\n",
       "      <td>18.076923</td>\n",
       "      <td>54.000000</td>\n",
       "      <td>45400.000000</td>\n",
       "    </tr>\n",
       "  </tbody>\n",
       "</table>\n",
       "</div>"
      ],
      "text/plain": [
       "        symboling  wheel-base      length       width      height  \\\n",
       "count  205.000000  205.000000  205.000000  205.000000  205.000000   \n",
       "mean     0.834146   98.756585    0.836373   65.907805   53.724878   \n",
       "std      1.245307    6.021776    0.059285    2.145204    2.443522   \n",
       "min     -2.000000   86.600000    0.678039   60.300000   47.800000   \n",
       "25%      0.000000   94.500000    0.799135   64.100000   52.000000   \n",
       "50%      1.000000   97.000000    0.832292   65.500000   54.100000   \n",
       "75%      2.000000  102.400000    0.879865   66.900000   55.500000   \n",
       "max      3.000000  120.900000    1.000000   72.300000   59.800000   \n",
       "\n",
       "       curb-weight  engine-size  compression-ratio  city-L/100Km  highway-mpg  \\\n",
       "count   205.000000   205.000000         205.000000    205.000000   205.000000   \n",
       "mean   2555.565854   126.907317          10.142537      9.949525    30.751220   \n",
       "std     520.680204    41.642693           3.972040      2.573104     6.886443   \n",
       "min    1488.000000    61.000000           7.000000      4.795918    16.000000   \n",
       "25%    2145.000000    97.000000           8.600000      7.833333    25.000000   \n",
       "50%    2414.000000   120.000000           9.000000      9.791667    30.000000   \n",
       "75%    2935.000000   141.000000           9.400000     12.368421    34.000000   \n",
       "max    4066.000000   326.000000          23.000000     18.076923    54.000000   \n",
       "\n",
       "              price  \n",
       "count    205.000000  \n",
       "mean   12949.429268  \n",
       "std     8079.043284  \n",
       "min        0.000000  \n",
       "25%     7689.000000  \n",
       "50%    10198.000000  \n",
       "75%    16500.000000  \n",
       "max    45400.000000  "
      ]
     },
     "execution_count": 9,
     "metadata": {},
     "output_type": "execute_result"
    }
   ],
   "source": [
    "df.describe()"
   ]
  },
  {
   "cell_type": "code",
   "execution_count": 10,
   "metadata": {},
   "outputs": [
    {
     "ename": "TypeError",
     "evalue": "Series.rename() got an unexpected keyword argument 'colunms'",
     "output_type": "error",
     "traceback": [
      "\u001b[1;31m---------------------------------------------------------------------------\u001b[0m",
      "\u001b[1;31mTypeError\u001b[0m                                 Traceback (most recent call last)",
      "Cell \u001b[1;32mIn[10], line 3\u001b[0m\n\u001b[0;32m      1\u001b[0m drive_wheel_count\u001b[38;5;241m=\u001b[39mdf[\u001b[38;5;124m\"\u001b[39m\u001b[38;5;124mdrive-wheels\u001b[39m\u001b[38;5;124m\"\u001b[39m]\u001b[38;5;241m.\u001b[39mvalue_counts()\n\u001b[1;32m----> 3\u001b[0m \u001b[43mdrive_wheel_count\u001b[49m\u001b[38;5;241;43m.\u001b[39;49m\u001b[43mrename\u001b[49m\u001b[43m(\u001b[49m\u001b[43mcolunms\u001b[49m\u001b[38;5;241;43m=\u001b[39;49m\u001b[43m{\u001b[49m\u001b[38;5;124;43m\"\u001b[39;49m\u001b[38;5;124;43mdrive-wheels\u001b[39;49m\u001b[38;5;124;43m\"\u001b[39;49m\u001b[43m:\u001b[49m\u001b[38;5;124;43m\"\u001b[39;49m\u001b[38;5;124;43mvalue_count\u001b[39;49m\u001b[38;5;124;43m\"\u001b[39;49m\u001b[43m \u001b[49m\u001b[43m}\u001b[49m\u001b[43m,\u001b[49m\u001b[43minplace\u001b[49m\u001b[38;5;241;43m=\u001b[39;49m\u001b[38;5;28;43;01mTrue\u001b[39;49;00m\u001b[43m)\u001b[49m\n\u001b[0;32m      4\u001b[0m drive_wheel_count\u001b[38;5;241m.\u001b[39mindex\u001b[38;5;241m.\u001b[39mname\u001b[38;5;241m=\u001b[39m\u001b[38;5;124m'\u001b[39m\u001b[38;5;124mdrive-wheels\u001b[39m\u001b[38;5;124m'\u001b[39m\n\u001b[0;32m      5\u001b[0m \u001b[38;5;28mprint\u001b[39m(drive_wheel_count)\n",
      "\u001b[1;31mTypeError\u001b[0m: Series.rename() got an unexpected keyword argument 'colunms'"
     ]
    }
   ],
   "source": [
    "drive_wheel_count=df[\"drive-wheels\"].value_counts()\n",
    "\n",
    "drive_wheel_count.rename(colunms={\"drive-wheels\":\"value_count\" },inplace=True)\n",
    "drive_wheel_count.index.name='drive-wheels'\n",
    "print(drive_wheel_count)"
   ]
  },
  {
   "cell_type": "code",
   "execution_count": 11,
   "metadata": {},
   "outputs": [
    {
     "name": "stdout",
     "output_type": "stream",
     "text": [
      "   drive-wheels   body-style         price\n",
      "0           4wd    hatchback   3801.500000\n",
      "1           4wd        sedan  12647.333333\n",
      "2           4wd        wagon   9095.750000\n",
      "3           fwd  convertible  11595.000000\n",
      "4           fwd      hardtop   8249.000000\n",
      "5           fwd    hatchback   8396.387755\n",
      "6           fwd        sedan   9467.526316\n",
      "7           fwd        wagon   9997.333333\n",
      "8           rwd  convertible  23949.600000\n",
      "9           rwd      hardtop  24202.714286\n",
      "10          rwd    hatchback  13583.157895\n",
      "11          rwd        sedan  21711.833333\n",
      "12          rwd        wagon  16994.222222\n"
     ]
    }
   ],
   "source": [
    "### group by \n",
    "df_test= df[[\"drive-wheels\",\"body-style\",\"price\"]]\n",
    "\n",
    "df_grp = df_test.groupby([\"drive-wheels\",\"body-style\"],as_index=False).mean()\n",
    "print(df_grp)"
   ]
  },
  {
   "cell_type": "code",
   "execution_count": 12,
   "metadata": {},
   "outputs": [
    {
     "data": {
      "text/html": [
       "<div>\n",
       "<style scoped>\n",
       "    .dataframe tbody tr th:only-of-type {\n",
       "        vertical-align: middle;\n",
       "    }\n",
       "\n",
       "    .dataframe tbody tr th {\n",
       "        vertical-align: top;\n",
       "    }\n",
       "\n",
       "    .dataframe thead tr th {\n",
       "        text-align: left;\n",
       "    }\n",
       "\n",
       "    .dataframe thead tr:last-of-type th {\n",
       "        text-align: right;\n",
       "    }\n",
       "</style>\n",
       "<table border=\"1\" class=\"dataframe\">\n",
       "  <thead>\n",
       "    <tr>\n",
       "      <th></th>\n",
       "      <th colspan=\"5\" halign=\"left\">price</th>\n",
       "    </tr>\n",
       "    <tr>\n",
       "      <th>body-style</th>\n",
       "      <th>convertible</th>\n",
       "      <th>hardtop</th>\n",
       "      <th>hatchback</th>\n",
       "      <th>sedan</th>\n",
       "      <th>wagon</th>\n",
       "    </tr>\n",
       "    <tr>\n",
       "      <th>drive-wheels</th>\n",
       "      <th></th>\n",
       "      <th></th>\n",
       "      <th></th>\n",
       "      <th></th>\n",
       "      <th></th>\n",
       "    </tr>\n",
       "  </thead>\n",
       "  <tbody>\n",
       "    <tr>\n",
       "      <th>4wd</th>\n",
       "      <td>NaN</td>\n",
       "      <td>NaN</td>\n",
       "      <td>3801.500000</td>\n",
       "      <td>12647.333333</td>\n",
       "      <td>9095.750000</td>\n",
       "    </tr>\n",
       "    <tr>\n",
       "      <th>fwd</th>\n",
       "      <td>11595.0</td>\n",
       "      <td>8249.000000</td>\n",
       "      <td>8396.387755</td>\n",
       "      <td>9467.526316</td>\n",
       "      <td>9997.333333</td>\n",
       "    </tr>\n",
       "    <tr>\n",
       "      <th>rwd</th>\n",
       "      <td>23949.6</td>\n",
       "      <td>24202.714286</td>\n",
       "      <td>13583.157895</td>\n",
       "      <td>21711.833333</td>\n",
       "      <td>16994.222222</td>\n",
       "    </tr>\n",
       "  </tbody>\n",
       "</table>\n",
       "</div>"
      ],
      "text/plain": [
       "                   price                                            \\\n",
       "body-style   convertible       hardtop     hatchback         sedan   \n",
       "drive-wheels                                                         \n",
       "4wd                  NaN           NaN   3801.500000  12647.333333   \n",
       "fwd              11595.0   8249.000000   8396.387755   9467.526316   \n",
       "rwd              23949.6  24202.714286  13583.157895  21711.833333   \n",
       "\n",
       "                            \n",
       "body-style           wagon  \n",
       "drive-wheels                \n",
       "4wd            9095.750000  \n",
       "fwd            9997.333333  \n",
       "rwd           16994.222222  "
      ]
     },
     "execution_count": 12,
     "metadata": {},
     "output_type": "execute_result"
    }
   ],
   "source": [
    "df_pivot= df_grp.pivot(index=\"drive-wheels\",columns=\"body-style\")\n",
    "df_pivot"
   ]
  },
  {
   "cell_type": "code",
   "execution_count": 15,
   "metadata": {},
   "outputs": [
    {
     "name": "stderr",
     "output_type": "stream",
     "text": [
      "C:\\Users\\acer\\AppData\\Local\\Temp\\ipykernel_11076\\1438002373.py:4: MatplotlibDeprecationWarning: Getting the array from a PolyQuadMesh will return the full array in the future (uncompressed). To get this behavior now set the PolyQuadMesh with a 2D array .set_array(data2d).\n",
      "  plt.colorbar()\n"
     ]
    },
    {
     "data": {
      "image/png": "[encoded data removed]",
      "text/plain": [
       "<Figure size 640x480 with 2 Axes>"
      ]
     },
     "metadata": {},
     "output_type": "display_data"
    }
   ],
   "source": [
    "#### using the heatmap\n",
    "\n",
    "plt.pcolor(df_pivot,cmap=\"RdBu\")\n",
    "plt.colorbar()\n",
    "plt.show()"
   ]
  },
  {
   "cell_type": "code",
   "execution_count": 24,
   "metadata": {},
   "outputs": [
    {
     "name": "stdout",
     "output_type": "stream",
     "text": [
      "F_onewayResult(statistic=np.float64(400.925870564337), pvalue=np.float64(1.0586193512077865e-11))\n"
     ]
    }
   ],
   "source": [
    "### the anova method\n",
    "df_anova = df[[\"make\",\"price\"]]\n",
    "grouped_anova = df_anova.groupby(\"make\")\n",
    "anova_results_1=stats.f_oneway (\n",
    "    grouped_anova.get_group(\"honda\") [\"price\"],\n",
    "    grouped_anova.get_group (\"jaguar\") [\"price\"])\n",
    "\n",
    "print(anova_results_1)\n"
   ]
  },
  {
   "cell_type": "code",
   "execution_count": 27,
   "metadata": {},
   "outputs": [
    {
     "data": {
      "text/plain": [
       "(0.0, 48166.30037254046)"
      ]
     },
     "execution_count": 27,
     "metadata": {},
     "output_type": "execute_result"
    },
    {
     "data": {
      "image/png": "[encoded data removed]",
      "text/plain": [
       "<Figure size 640x480 with 1 Axes>"
      ]
     },
     "metadata": {},
     "output_type": "display_data"
    }
   ],
   "source": [
    "### correlation\n",
    "\n",
    "sns.regplot(x=\"highway-mpg\",y=\"price\",data=df)\n",
    "plt.ylim(0,) ## add a regression line to indicate the relationship between the 2"
   ]
  },
  {
   "cell_type": "code",
   "execution_count": 34,
   "metadata": {},
   "outputs": [
    {
     "name": "stdout",
     "output_type": "stream",
     "text": [
      "nan\n",
      "nan\n"
     ]
    }
   ],
   "source": [
    "### calculate correlation\n",
    "df[\"horsepower\"] = pd.to_numeric(df[\"horsepower\"], errors=\"coerce\")\n",
    "df[\"price\"] = pd.to_numeric(df[\"price\"], errors=\"coerce\")\n",
    "\n",
    "person_coef,p_value= stats.pearsonr(df[\"horsepower\"],df[\"price\"])\n",
    "print(person_coef)\n",
    "print(p_value)"
   ]
  }
 ],
 "metadata": {
  "kernelspec": {
   "display_name": "myenv",
   "language": "python",
   "name": "python3"
  },
  "language_info": {
   "codemirror_mode": {
    "name": "ipython",
    "version": 3
   },
   "file_extension": ".py",
   "mimetype": "text/x-python",
   "name": "python",
   "nbconvert_exporter": "python",
   "pygments_lexer": "ipython3",
   "version": "3.11.9"
  }
 },
 "nbformat": 4,
 "nbformat_minor": 2
}
